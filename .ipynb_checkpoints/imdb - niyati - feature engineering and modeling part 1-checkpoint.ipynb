{
 "cells": [
  {
   "cell_type": "code",
   "execution_count": 1,
   "metadata": {},
   "outputs": [],
   "source": [
    "import pandas as pd \n",
    "import numpy as np\n",
    "import seaborn as sns\n",
    "import matplotlib.pyplot as plt\n",
    "import nltk\n",
    "from sklearn.preprocessing import OrdinalEncoder"
   ]
  },
  {
   "cell_type": "code",
   "execution_count": 2,
   "metadata": {},
   "outputs": [],
   "source": [
    "imdb = pd.read_csv(\"imdb_top_1000.csv\")"
   ]
  },
  {
   "cell_type": "code",
   "execution_count": 3,
   "metadata": {},
   "outputs": [
    {
     "data": {
      "text/html": [
       "<div>\n",
       "<style scoped>\n",
       "    .dataframe tbody tr th:only-of-type {\n",
       "        vertical-align: middle;\n",
       "    }\n",
       "\n",
       "    .dataframe tbody tr th {\n",
       "        vertical-align: top;\n",
       "    }\n",
       "\n",
       "    .dataframe thead th {\n",
       "        text-align: right;\n",
       "    }\n",
       "</style>\n",
       "<table border=\"1\" class=\"dataframe\">\n",
       "  <thead>\n",
       "    <tr style=\"text-align: right;\">\n",
       "      <th></th>\n",
       "      <th>Poster_Link</th>\n",
       "      <th>Series_Title</th>\n",
       "      <th>Released_Year</th>\n",
       "      <th>Certificate</th>\n",
       "      <th>Runtime</th>\n",
       "      <th>Genre</th>\n",
       "      <th>IMDB_Rating</th>\n",
       "      <th>Overview</th>\n",
       "      <th>Meta_score</th>\n",
       "      <th>Director</th>\n",
       "      <th>Star1</th>\n",
       "      <th>Star2</th>\n",
       "      <th>Star3</th>\n",
       "      <th>Star4</th>\n",
       "      <th>No_of_Votes</th>\n",
       "      <th>Gross</th>\n",
       "    </tr>\n",
       "  </thead>\n",
       "  <tbody>\n",
       "    <tr>\n",
       "      <th>0</th>\n",
       "      <td>https://m.media-amazon.com/images/M/MV5BMDFkYT...</td>\n",
       "      <td>The Shawshank Redemption</td>\n",
       "      <td>1994</td>\n",
       "      <td>A</td>\n",
       "      <td>142 min</td>\n",
       "      <td>Drama</td>\n",
       "      <td>9.3</td>\n",
       "      <td>Two imprisoned men bond over a number of years...</td>\n",
       "      <td>80.0</td>\n",
       "      <td>Frank Darabont</td>\n",
       "      <td>Tim Robbins</td>\n",
       "      <td>Morgan Freeman</td>\n",
       "      <td>Bob Gunton</td>\n",
       "      <td>William Sadler</td>\n",
       "      <td>2343110</td>\n",
       "      <td>28,341,469</td>\n",
       "    </tr>\n",
       "    <tr>\n",
       "      <th>1</th>\n",
       "      <td>https://m.media-amazon.com/images/M/MV5BM2MyNj...</td>\n",
       "      <td>The Godfather</td>\n",
       "      <td>1972</td>\n",
       "      <td>A</td>\n",
       "      <td>175 min</td>\n",
       "      <td>Crime, Drama</td>\n",
       "      <td>9.2</td>\n",
       "      <td>An organized crime dynasty's aging patriarch t...</td>\n",
       "      <td>100.0</td>\n",
       "      <td>Francis Ford Coppola</td>\n",
       "      <td>Marlon Brando</td>\n",
       "      <td>Al Pacino</td>\n",
       "      <td>James Caan</td>\n",
       "      <td>Diane Keaton</td>\n",
       "      <td>1620367</td>\n",
       "      <td>134,966,411</td>\n",
       "    </tr>\n",
       "    <tr>\n",
       "      <th>2</th>\n",
       "      <td>https://m.media-amazon.com/images/M/MV5BMTMxNT...</td>\n",
       "      <td>The Dark Knight</td>\n",
       "      <td>2008</td>\n",
       "      <td>UA</td>\n",
       "      <td>152 min</td>\n",
       "      <td>Action, Crime, Drama</td>\n",
       "      <td>9.0</td>\n",
       "      <td>When the menace known as the Joker wreaks havo...</td>\n",
       "      <td>84.0</td>\n",
       "      <td>Christopher Nolan</td>\n",
       "      <td>Christian Bale</td>\n",
       "      <td>Heath Ledger</td>\n",
       "      <td>Aaron Eckhart</td>\n",
       "      <td>Michael Caine</td>\n",
       "      <td>2303232</td>\n",
       "      <td>534,858,444</td>\n",
       "    </tr>\n",
       "    <tr>\n",
       "      <th>3</th>\n",
       "      <td>https://m.media-amazon.com/images/M/MV5BMWMwMG...</td>\n",
       "      <td>The Godfather: Part II</td>\n",
       "      <td>1974</td>\n",
       "      <td>A</td>\n",
       "      <td>202 min</td>\n",
       "      <td>Crime, Drama</td>\n",
       "      <td>9.0</td>\n",
       "      <td>The early life and career of Vito Corleone in ...</td>\n",
       "      <td>90.0</td>\n",
       "      <td>Francis Ford Coppola</td>\n",
       "      <td>Al Pacino</td>\n",
       "      <td>Robert De Niro</td>\n",
       "      <td>Robert Duvall</td>\n",
       "      <td>Diane Keaton</td>\n",
       "      <td>1129952</td>\n",
       "      <td>57,300,000</td>\n",
       "    </tr>\n",
       "    <tr>\n",
       "      <th>4</th>\n",
       "      <td>https://m.media-amazon.com/images/M/MV5BMWU4N2...</td>\n",
       "      <td>12 Angry Men</td>\n",
       "      <td>1957</td>\n",
       "      <td>U</td>\n",
       "      <td>96 min</td>\n",
       "      <td>Crime, Drama</td>\n",
       "      <td>9.0</td>\n",
       "      <td>A jury holdout attempts to prevent a miscarria...</td>\n",
       "      <td>96.0</td>\n",
       "      <td>Sidney Lumet</td>\n",
       "      <td>Henry Fonda</td>\n",
       "      <td>Lee J. Cobb</td>\n",
       "      <td>Martin Balsam</td>\n",
       "      <td>John Fiedler</td>\n",
       "      <td>689845</td>\n",
       "      <td>4,360,000</td>\n",
       "    </tr>\n",
       "  </tbody>\n",
       "</table>\n",
       "</div>"
      ],
      "text/plain": [
       "                                         Poster_Link  \\\n",
       "0  https://m.media-amazon.com/images/M/MV5BMDFkYT...   \n",
       "1  https://m.media-amazon.com/images/M/MV5BM2MyNj...   \n",
       "2  https://m.media-amazon.com/images/M/MV5BMTMxNT...   \n",
       "3  https://m.media-amazon.com/images/M/MV5BMWMwMG...   \n",
       "4  https://m.media-amazon.com/images/M/MV5BMWU4N2...   \n",
       "\n",
       "               Series_Title Released_Year Certificate  Runtime  \\\n",
       "0  The Shawshank Redemption          1994           A  142 min   \n",
       "1             The Godfather          1972           A  175 min   \n",
       "2           The Dark Knight          2008          UA  152 min   \n",
       "3    The Godfather: Part II          1974           A  202 min   \n",
       "4              12 Angry Men          1957           U   96 min   \n",
       "\n",
       "                  Genre  IMDB_Rating  \\\n",
       "0                 Drama          9.3   \n",
       "1          Crime, Drama          9.2   \n",
       "2  Action, Crime, Drama          9.0   \n",
       "3          Crime, Drama          9.0   \n",
       "4          Crime, Drama          9.0   \n",
       "\n",
       "                                            Overview  Meta_score  \\\n",
       "0  Two imprisoned men bond over a number of years...        80.0   \n",
       "1  An organized crime dynasty's aging patriarch t...       100.0   \n",
       "2  When the menace known as the Joker wreaks havo...        84.0   \n",
       "3  The early life and career of Vito Corleone in ...        90.0   \n",
       "4  A jury holdout attempts to prevent a miscarria...        96.0   \n",
       "\n",
       "               Director           Star1           Star2          Star3  \\\n",
       "0        Frank Darabont     Tim Robbins  Morgan Freeman     Bob Gunton   \n",
       "1  Francis Ford Coppola   Marlon Brando       Al Pacino     James Caan   \n",
       "2     Christopher Nolan  Christian Bale    Heath Ledger  Aaron Eckhart   \n",
       "3  Francis Ford Coppola       Al Pacino  Robert De Niro  Robert Duvall   \n",
       "4          Sidney Lumet     Henry Fonda     Lee J. Cobb  Martin Balsam   \n",
       "\n",
       "            Star4  No_of_Votes        Gross  \n",
       "0  William Sadler      2343110   28,341,469  \n",
       "1    Diane Keaton      1620367  134,966,411  \n",
       "2   Michael Caine      2303232  534,858,444  \n",
       "3    Diane Keaton      1129952   57,300,000  \n",
       "4    John Fiedler       689845    4,360,000  "
      ]
     },
     "execution_count": 3,
     "metadata": {},
     "output_type": "execute_result"
    }
   ],
   "source": [
    "imdb.head()"
   ]
  },
  {
   "cell_type": "code",
   "execution_count": 4,
   "metadata": {},
   "outputs": [
    {
     "data": {
      "text/plain": [
       "Index(['Poster_Link', 'Series_Title', 'Released_Year', 'Certificate',\n",
       "       'Runtime', 'Genre', 'IMDB_Rating', 'Overview', 'Meta_score', 'Director',\n",
       "       'Star1', 'Star2', 'Star3', 'Star4', 'No_of_Votes', 'Gross'],\n",
       "      dtype='object')"
      ]
     },
     "execution_count": 4,
     "metadata": {},
     "output_type": "execute_result"
    }
   ],
   "source": [
    "imdb.columns"
   ]
  },
  {
   "cell_type": "code",
   "execution_count": 5,
   "metadata": {},
   "outputs": [],
   "source": [
    "#dropping extra columns\n",
    "imdb = imdb.drop(['Poster_Link','Star1', 'Star2', 'Star3', 'Star4', 'No_of_Votes', 'Gross'], axis = 1)"
   ]
  },
  {
   "cell_type": "code",
   "execution_count": 6,
   "metadata": {},
   "outputs": [
    {
     "name": "stdout",
     "output_type": "stream",
     "text": [
      "<class 'pandas.core.frame.DataFrame'>\n",
      "RangeIndex: 1000 entries, 0 to 999\n",
      "Data columns (total 9 columns):\n",
      " #   Column         Non-Null Count  Dtype  \n",
      "---  ------         --------------  -----  \n",
      " 0   Series_Title   1000 non-null   object \n",
      " 1   Released_Year  1000 non-null   object \n",
      " 2   Certificate    899 non-null    object \n",
      " 3   Runtime        1000 non-null   object \n",
      " 4   Genre          1000 non-null   object \n",
      " 5   IMDB_Rating    1000 non-null   float64\n",
      " 6   Overview       1000 non-null   object \n",
      " 7   Meta_score     843 non-null    float64\n",
      " 8   Director       1000 non-null   object \n",
      "dtypes: float64(2), object(7)\n",
      "memory usage: 70.4+ KB\n"
     ]
    }
   ],
   "source": [
    "imdb.info()"
   ]
  },
  {
   "cell_type": "markdown",
   "metadata": {},
   "source": [
    "#### handling null values - meta score and certificate"
   ]
  },
  {
   "cell_type": "code",
   "execution_count": 7,
   "metadata": {},
   "outputs": [],
   "source": [
    "imdb.Meta_score = imdb.Meta_score.fillna(imdb.Meta_score.mean())"
   ]
  },
  {
   "cell_type": "code",
   "execution_count": 8,
   "metadata": {},
   "outputs": [
    {
     "data": {
      "text/plain": [
       "77.97153024911032"
      ]
     },
     "execution_count": 8,
     "metadata": {},
     "output_type": "execute_result"
    }
   ],
   "source": [
    "imdb.Meta_score[20] #done"
   ]
  },
  {
   "cell_type": "code",
   "execution_count": 9,
   "metadata": {},
   "outputs": [],
   "source": [
    "imdb.Certificate = imdb.Certificate.fillna(imdb.Certificate.value_counts().index[0])\n",
    "#df.fillna(df['Label'].value_counts().index[0]"
   ]
  },
  {
   "cell_type": "code",
   "execution_count": 10,
   "metadata": {},
   "outputs": [
    {
     "name": "stdout",
     "output_type": "stream",
     "text": [
      "<class 'pandas.core.frame.DataFrame'>\n",
      "RangeIndex: 1000 entries, 0 to 999\n",
      "Data columns (total 9 columns):\n",
      " #   Column         Non-Null Count  Dtype  \n",
      "---  ------         --------------  -----  \n",
      " 0   Series_Title   1000 non-null   object \n",
      " 1   Released_Year  1000 non-null   object \n",
      " 2   Certificate    1000 non-null   object \n",
      " 3   Runtime        1000 non-null   object \n",
      " 4   Genre          1000 non-null   object \n",
      " 5   IMDB_Rating    1000 non-null   float64\n",
      " 6   Overview       1000 non-null   object \n",
      " 7   Meta_score     1000 non-null   float64\n",
      " 8   Director       1000 non-null   object \n",
      "dtypes: float64(2), object(7)\n",
      "memory usage: 70.4+ KB\n"
     ]
    }
   ],
   "source": [
    "imdb.info() #done"
   ]
  },
  {
   "cell_type": "markdown",
   "metadata": {},
   "source": [
    "#### making director a 0/1 column\n",
    "1 if the director is in the top 10 frequent directors else 0"
   ]
  },
  {
   "cell_type": "code",
   "execution_count": 11,
   "metadata": {},
   "outputs": [],
   "source": [
    "top10dir = list(pd.value_counts(imdb.Director)[:10].index)"
   ]
  },
  {
   "cell_type": "code",
   "execution_count": 12,
   "metadata": {},
   "outputs": [],
   "source": [
    "dir1 = []\n",
    "for i in imdb.Director:\n",
    "    if i in top10dir:\n",
    "        dir1.append(1)\n",
    "    else:\n",
    "        dir1.append(0)"
   ]
  },
  {
   "cell_type": "code",
   "execution_count": 13,
   "metadata": {},
   "outputs": [],
   "source": [
    "imdb.Director = dir1"
   ]
  },
  {
   "cell_type": "markdown",
   "metadata": {},
   "source": [
    "#### encoding categorical variables: certificate and genre"
   ]
  },
  {
   "cell_type": "code",
   "execution_count": 14,
   "metadata": {},
   "outputs": [
    {
     "data": {
      "text/plain": [
       "array([[ 1.],\n",
       "       [ 1.],\n",
       "       [14.],\n",
       "       [ 1.],\n",
       "       [12.]])"
      ]
     },
     "execution_count": 14,
     "metadata": {},
     "output_type": "execute_result"
    }
   ],
   "source": [
    "cert = np.asarray(imdb.Certificate).reshape(-1,1)\n",
    "encoder = OrdinalEncoder()\n",
    "cert = encoder.fit_transform(cert)\n",
    "cert[:5]"
   ]
  },
  {
   "cell_type": "code",
   "execution_count": 15,
   "metadata": {},
   "outputs": [],
   "source": [
    "cert1 = []\n",
    "for i in cert:\n",
    "    cert1.append((int(i[0])))"
   ]
  },
  {
   "cell_type": "code",
   "execution_count": 16,
   "metadata": {},
   "outputs": [],
   "source": [
    "imdb.Certificate = cert1"
   ]
  },
  {
   "cell_type": "code",
   "execution_count": 17,
   "metadata": {},
   "outputs": [
    {
     "name": "stdout",
     "output_type": "stream",
     "text": [
      "<class 'pandas.core.frame.DataFrame'>\n",
      "RangeIndex: 1000 entries, 0 to 999\n",
      "Data columns (total 9 columns):\n",
      " #   Column         Non-Null Count  Dtype  \n",
      "---  ------         --------------  -----  \n",
      " 0   Series_Title   1000 non-null   object \n",
      " 1   Released_Year  1000 non-null   object \n",
      " 2   Certificate    1000 non-null   int64  \n",
      " 3   Runtime        1000 non-null   object \n",
      " 4   Genre          1000 non-null   object \n",
      " 5   IMDB_Rating    1000 non-null   float64\n",
      " 6   Overview       1000 non-null   object \n",
      " 7   Meta_score     1000 non-null   float64\n",
      " 8   Director       1000 non-null   int64  \n",
      "dtypes: float64(2), int64(2), object(5)\n",
      "memory usage: 70.4+ KB\n"
     ]
    }
   ],
   "source": [
    "imdb.info()"
   ]
  },
  {
   "cell_type": "markdown",
   "metadata": {},
   "source": [
    "for genre, i want to do maybe one hot encoding? because there are multiple possible values for genre. either split it into multiple columns. yes. one hot encoding is better. "
   ]
  },
  {
   "cell_type": "code",
   "execution_count": 18,
   "metadata": {},
   "outputs": [],
   "source": [
    "from sklearn.preprocessing import OneHotEncoder"
   ]
  },
  {
   "cell_type": "code",
   "execution_count": 19,
   "metadata": {},
   "outputs": [],
   "source": [
    "onehot = OneHotEncoder()"
   ]
  },
  {
   "cell_type": "code",
   "execution_count": 20,
   "metadata": {},
   "outputs": [],
   "source": [
    "temp_g = onehot.fit_transform(np.asarray(imdb.Genre).reshape(-1,1))"
   ]
  },
  {
   "cell_type": "code",
   "execution_count": 21,
   "metadata": {},
   "outputs": [
    {
     "data": {
      "text/plain": [
       "Drama        724\n",
       "Comedy       233\n",
       "Crime        209\n",
       "Adventure    196\n",
       "Action       189\n",
       "Thriller     137\n",
       "Romance      125\n",
       "Biography    109\n",
       "Mystery       99\n",
       "Animation     82\n",
       "Sci-Fi        67\n",
       "Fantasy       66\n",
       "History       56\n",
       "Family        56\n",
       "War           51\n",
       "Music         35\n",
       "Horror        32\n",
       "Western       20\n",
       "Film-Noir     19\n",
       "Sport         19\n",
       "Musical       17\n",
       "dtype: int64"
      ]
     },
     "execution_count": 21,
     "metadata": {},
     "output_type": "execute_result"
    }
   ],
   "source": [
    "genres = []\n",
    "for i in imdb.Genre:\n",
    "    i = i.split(\",\")\n",
    "    for j in i:\n",
    "        genres.append(j.strip())\n",
    "pd.value_counts(pd.Series(genres))"
   ]
  },
  {
   "cell_type": "code",
   "execution_count": 22,
   "metadata": {},
   "outputs": [],
   "source": [
    "genres_dict = {}\n",
    "k = 0\n",
    "for i in set(genres):\n",
    "    genres_dict[i] = k \n",
    "    k +=1\n"
   ]
  },
  {
   "cell_type": "code",
   "execution_count": 23,
   "metadata": {},
   "outputs": [
    {
     "data": {
      "text/plain": [
       "{'Romance': 0,\n",
       " 'Sci-Fi': 1,\n",
       " 'Adventure': 2,\n",
       " 'Fantasy': 3,\n",
       " 'Family': 4,\n",
       " 'Horror': 5,\n",
       " 'History': 6,\n",
       " 'Comedy': 7,\n",
       " 'Action': 8,\n",
       " 'Thriller': 9,\n",
       " 'Biography': 10,\n",
       " 'Sport': 11,\n",
       " 'Mystery': 12,\n",
       " 'War': 13,\n",
       " 'Musical': 14,\n",
       " 'Drama': 15,\n",
       " 'Animation': 16,\n",
       " 'Film-Noir': 17,\n",
       " 'Crime': 18,\n",
       " 'Music': 19,\n",
       " 'Western': 20}"
      ]
     },
     "execution_count": 23,
     "metadata": {},
     "output_type": "execute_result"
    }
   ],
   "source": [
    "genres_dict #encoded genres"
   ]
  },
  {
   "cell_type": "code",
   "execution_count": 24,
   "metadata": {},
   "outputs": [],
   "source": [
    "#genres_dict[\"\"] = 21"
   ]
  },
  {
   "cell_type": "code",
   "execution_count": 25,
   "metadata": {},
   "outputs": [],
   "source": [
    "#genres_dict"
   ]
  },
  {
   "cell_type": "code",
   "execution_count": 26,
   "metadata": {},
   "outputs": [],
   "source": [
    "gen_arr = []\n",
    "for i in range(1000):\n",
    "    gen_arr.append([])\n",
    "    for j in range(21):\n",
    "        gen_arr[i].append(0) #1000 rows, 21 cols for each genre\n",
    "gen_arr = np.asarray(gen_arr)"
   ]
  },
  {
   "cell_type": "code",
   "execution_count": 27,
   "metadata": {},
   "outputs": [
    {
     "data": {
      "text/plain": [
       "array([[0, 0, 0, ..., 0, 0, 0],\n",
       "       [0, 0, 0, ..., 0, 0, 0],\n",
       "       [0, 0, 0, ..., 0, 0, 0],\n",
       "       ...,\n",
       "       [0, 0, 0, ..., 0, 0, 0],\n",
       "       [0, 0, 0, ..., 0, 0, 0],\n",
       "       [0, 0, 0, ..., 0, 0, 0]])"
      ]
     },
     "execution_count": 27,
     "metadata": {},
     "output_type": "execute_result"
    }
   ],
   "source": [
    "gen_arr"
   ]
  },
  {
   "cell_type": "code",
   "execution_count": 28,
   "metadata": {},
   "outputs": [],
   "source": [
    "gen1 = []\n",
    "for i in imdb.Genre:\n",
    "    genres1 = i.split(\",\")\n",
    "    genres1 = [j.strip() for j in genres1]\n",
    "    gen1.append(genres1)"
   ]
  },
  {
   "cell_type": "code",
   "execution_count": 29,
   "metadata": {},
   "outputs": [],
   "source": [
    "gg = list(genres_dict.keys())\n",
    "gg.index('Comedy')\n",
    "\n",
    "for i in range(len(gen1)):\n",
    "    for j in gen1[i]:\n",
    "        #print(j)\n",
    "        gen_arr[i][gg.index(j)] = 1\n"
   ]
  },
  {
   "cell_type": "code",
   "execution_count": 30,
   "metadata": {},
   "outputs": [],
   "source": [
    "genarrt = gen_arr.transpose()"
   ]
  },
  {
   "cell_type": "code",
   "execution_count": 31,
   "metadata": {},
   "outputs": [],
   "source": [
    "for i in range(len(gg)):\n",
    "    imdb[gg[i]] = list(genarrt[i])"
   ]
  },
  {
   "cell_type": "code",
   "execution_count": 32,
   "metadata": {},
   "outputs": [
    {
     "name": "stdout",
     "output_type": "stream",
     "text": [
      "<class 'pandas.core.frame.DataFrame'>\n",
      "RangeIndex: 1000 entries, 0 to 999\n",
      "Data columns (total 30 columns):\n",
      " #   Column         Non-Null Count  Dtype  \n",
      "---  ------         --------------  -----  \n",
      " 0   Series_Title   1000 non-null   object \n",
      " 1   Released_Year  1000 non-null   object \n",
      " 2   Certificate    1000 non-null   int64  \n",
      " 3   Runtime        1000 non-null   object \n",
      " 4   Genre          1000 non-null   object \n",
      " 5   IMDB_Rating    1000 non-null   float64\n",
      " 6   Overview       1000 non-null   object \n",
      " 7   Meta_score     1000 non-null   float64\n",
      " 8   Director       1000 non-null   int64  \n",
      " 9   Romance        1000 non-null   int32  \n",
      " 10  Sci-Fi         1000 non-null   int32  \n",
      " 11  Adventure      1000 non-null   int32  \n",
      " 12  Fantasy        1000 non-null   int32  \n",
      " 13  Family         1000 non-null   int32  \n",
      " 14  Horror         1000 non-null   int32  \n",
      " 15  History        1000 non-null   int32  \n",
      " 16  Comedy         1000 non-null   int32  \n",
      " 17  Action         1000 non-null   int32  \n",
      " 18  Thriller       1000 non-null   int32  \n",
      " 19  Biography      1000 non-null   int32  \n",
      " 20  Sport          1000 non-null   int32  \n",
      " 21  Mystery        1000 non-null   int32  \n",
      " 22  War            1000 non-null   int32  \n",
      " 23  Musical        1000 non-null   int32  \n",
      " 24  Drama          1000 non-null   int32  \n",
      " 25  Animation      1000 non-null   int32  \n",
      " 26  Film-Noir      1000 non-null   int32  \n",
      " 27  Crime          1000 non-null   int32  \n",
      " 28  Music          1000 non-null   int32  \n",
      " 29  Western        1000 non-null   int32  \n",
      "dtypes: float64(2), int32(21), int64(2), object(5)\n",
      "memory usage: 152.5+ KB\n"
     ]
    }
   ],
   "source": [
    "imdb.info()"
   ]
  },
  {
   "cell_type": "code",
   "execution_count": null,
   "metadata": {},
   "outputs": [],
   "source": []
  },
  {
   "cell_type": "markdown",
   "metadata": {},
   "source": [
    "#### convert Released_Year, Runtime to int because it is of type string right now"
   ]
  },
  {
   "cell_type": "code",
   "execution_count": 33,
   "metadata": {},
   "outputs": [],
   "source": [
    "year = []\n",
    "time = []\n",
    "for i in range(1000):\n",
    "    if imdb.Released_Year[i] != 'PG':\n",
    "        year.append(int(imdb.Released_Year[i]))\n",
    "    else:\n",
    "        year.append(1995) #apollo 13 was released in 1995\n",
    "    \n",
    "    time.append(int(imdb.Runtime[i].split(\" \")[0]))"
   ]
  },
  {
   "cell_type": "code",
   "execution_count": 34,
   "metadata": {},
   "outputs": [],
   "source": [
    "imdb.Released_Year = year\n",
    "imdb.Runtime = time"
   ]
  },
  {
   "cell_type": "code",
   "execution_count": 35,
   "metadata": {},
   "outputs": [
    {
     "name": "stdout",
     "output_type": "stream",
     "text": [
      "<class 'pandas.core.frame.DataFrame'>\n",
      "RangeIndex: 1000 entries, 0 to 999\n",
      "Data columns (total 30 columns):\n",
      " #   Column         Non-Null Count  Dtype  \n",
      "---  ------         --------------  -----  \n",
      " 0   Series_Title   1000 non-null   object \n",
      " 1   Released_Year  1000 non-null   int64  \n",
      " 2   Certificate    1000 non-null   int64  \n",
      " 3   Runtime        1000 non-null   int64  \n",
      " 4   Genre          1000 non-null   object \n",
      " 5   IMDB_Rating    1000 non-null   float64\n",
      " 6   Overview       1000 non-null   object \n",
      " 7   Meta_score     1000 non-null   float64\n",
      " 8   Director       1000 non-null   int64  \n",
      " 9   Romance        1000 non-null   int32  \n",
      " 10  Sci-Fi         1000 non-null   int32  \n",
      " 11  Adventure      1000 non-null   int32  \n",
      " 12  Fantasy        1000 non-null   int32  \n",
      " 13  Family         1000 non-null   int32  \n",
      " 14  Horror         1000 non-null   int32  \n",
      " 15  History        1000 non-null   int32  \n",
      " 16  Comedy         1000 non-null   int32  \n",
      " 17  Action         1000 non-null   int32  \n",
      " 18  Thriller       1000 non-null   int32  \n",
      " 19  Biography      1000 non-null   int32  \n",
      " 20  Sport          1000 non-null   int32  \n",
      " 21  Mystery        1000 non-null   int32  \n",
      " 22  War            1000 non-null   int32  \n",
      " 23  Musical        1000 non-null   int32  \n",
      " 24  Drama          1000 non-null   int32  \n",
      " 25  Animation      1000 non-null   int32  \n",
      " 26  Film-Noir      1000 non-null   int32  \n",
      " 27  Crime          1000 non-null   int32  \n",
      " 28  Music          1000 non-null   int32  \n",
      " 29  Western        1000 non-null   int32  \n",
      "dtypes: float64(2), int32(21), int64(4), object(3)\n",
      "memory usage: 152.5+ KB\n"
     ]
    }
   ],
   "source": [
    "imdb.info()"
   ]
  },
  {
   "cell_type": "markdown",
   "metadata": {},
   "source": [
    "## NLP tasks on overvieiw and title"
   ]
  },
  {
   "cell_type": "code",
   "execution_count": 64,
   "metadata": {},
   "outputs": [],
   "source": [
    "from nltk.corpus import stopwords"
   ]
  },
  {
   "cell_type": "markdown",
   "metadata": {},
   "source": [
    "verbs: https://github.com/datmt/English-Verbs/blob/master/verbsList <br/>\n",
    "positive words: https://gist.github.com/mkulakowski2/4289437 <br/>\n",
    "negative words: https://gist.github.com/mkulakowski2/4289441"
   ]
  },
  {
   "cell_type": "code",
   "execution_count": 65,
   "metadata": {},
   "outputs": [],
   "source": [
    "pos = open(\"positive words.txt\", \"r\")\n",
    "pos = list(pos.read().split(\"\\n\"))\n",
    "neg = open(\"negative words.txt\", \"r\")\n",
    "neg = list(neg.read().split(\"\\n\"))\n",
    "verbs = open(\"verbs.txt\", \"r\")\n",
    "verbs = list(verbs.read().split(\"\\n\"))\n",
    "stops = set(stopwords.words('english'))"
   ]
  },
  {
   "cell_type": "code",
   "execution_count": null,
   "metadata": {},
   "outputs": [],
   "source": []
  },
  {
   "cell_type": "code",
   "execution_count": 66,
   "metadata": {},
   "outputs": [],
   "source": [
    "text_all = []\n",
    "for i in range(1000):\n",
    "    thing = imdb.Series_Title[i]+\". \"+imdb.Overview[i]\n",
    "    text_all.append(thing)"
   ]
  },
  {
   "cell_type": "code",
   "execution_count": 70,
   "metadata": {},
   "outputs": [],
   "source": [
    "pw = []\n",
    "nw = []\n",
    "vv = []\n",
    "sw = []\n",
    "for i in text_all:\n",
    "    p = 0\n",
    "    n = 0\n",
    "    v = 0\n",
    "    s = 0\n",
    "    for j in i.split():\n",
    "        if j in pos:\n",
    "            p+=1\n",
    "        if j in neg:\n",
    "            n+=1\n",
    "        if i in verbs:\n",
    "            v +=1\n",
    "        if i in stops:\n",
    "            s+=1\n",
    "    pw.append(p)\n",
    "    nw.append(n)\n",
    "    vv.append(v)\n",
    "    sw.append(s)    "
   ]
  },
  {
   "cell_type": "code",
   "execution_count": 76,
   "metadata": {},
   "outputs": [],
   "source": [
    "imdb['positive_words'] = pw\n",
    "imdb['negative_words'] = nw\n",
    "imdb['verbs'] = vv\n",
    "imdb['stopwords'] = sw"
   ]
  },
  {
   "cell_type": "code",
   "execution_count": 77,
   "metadata": {},
   "outputs": [
    {
     "name": "stdout",
     "output_type": "stream",
     "text": [
      "<class 'pandas.core.frame.DataFrame'>\n",
      "RangeIndex: 1000 entries, 0 to 999\n",
      "Data columns (total 34 columns):\n",
      " #   Column          Non-Null Count  Dtype  \n",
      "---  ------          --------------  -----  \n",
      " 0   Series_Title    1000 non-null   object \n",
      " 1   Released_Year   1000 non-null   int64  \n",
      " 2   Certificate     1000 non-null   int64  \n",
      " 3   Runtime         1000 non-null   int64  \n",
      " 4   Genre           1000 non-null   object \n",
      " 5   IMDB_Rating     1000 non-null   float64\n",
      " 6   Overview        1000 non-null   object \n",
      " 7   Meta_score      1000 non-null   float64\n",
      " 8   Director        1000 non-null   int64  \n",
      " 9   Romance         1000 non-null   int32  \n",
      " 10  Sci-Fi          1000 non-null   int32  \n",
      " 11  Adventure       1000 non-null   int32  \n",
      " 12  Fantasy         1000 non-null   int32  \n",
      " 13  Family          1000 non-null   int32  \n",
      " 14  Horror          1000 non-null   int32  \n",
      " 15  History         1000 non-null   int32  \n",
      " 16  Comedy          1000 non-null   int32  \n",
      " 17  Action          1000 non-null   int32  \n",
      " 18  Thriller        1000 non-null   int32  \n",
      " 19  Biography       1000 non-null   int32  \n",
      " 20  Sport           1000 non-null   int32  \n",
      " 21  Mystery         1000 non-null   int32  \n",
      " 22  War             1000 non-null   int32  \n",
      " 23  Musical         1000 non-null   int32  \n",
      " 24  Drama           1000 non-null   int32  \n",
      " 25  Animation       1000 non-null   int32  \n",
      " 26  Film-Noir       1000 non-null   int32  \n",
      " 27  Crime           1000 non-null   int32  \n",
      " 28  Music           1000 non-null   int32  \n",
      " 29  Western         1000 non-null   int32  \n",
      " 30  positive_words  1000 non-null   int64  \n",
      " 31  negative_words  1000 non-null   int64  \n",
      " 32  verbs           1000 non-null   int64  \n",
      " 33  stopwords       1000 non-null   int64  \n",
      "dtypes: float64(2), int32(21), int64(8), object(3)\n",
      "memory usage: 183.7+ KB\n"
     ]
    }
   ],
   "source": [
    "imdb.info()"
   ]
  },
  {
   "cell_type": "code",
   "execution_count": null,
   "metadata": {},
   "outputs": [],
   "source": []
  },
  {
   "cell_type": "code",
   "execution_count": null,
   "metadata": {},
   "outputs": [],
   "source": []
  },
  {
   "cell_type": "code",
   "execution_count": null,
   "metadata": {},
   "outputs": [],
   "source": []
  },
  {
   "cell_type": "code",
   "execution_count": null,
   "metadata": {},
   "outputs": [],
   "source": []
  },
  {
   "cell_type": "code",
   "execution_count": null,
   "metadata": {},
   "outputs": [],
   "source": []
  },
  {
   "cell_type": "code",
   "execution_count": null,
   "metadata": {},
   "outputs": [],
   "source": []
  },
  {
   "cell_type": "code",
   "execution_count": null,
   "metadata": {},
   "outputs": [],
   "source": []
  },
  {
   "cell_type": "markdown",
   "metadata": {},
   "source": [
    "#### Trial model : linear regression without any textual features"
   ]
  },
  {
   "cell_type": "code",
   "execution_count": 36,
   "metadata": {},
   "outputs": [],
   "source": [
    "from sklearn.model_selection import train_test_split"
   ]
  },
  {
   "cell_type": "code",
   "execution_count": 78,
   "metadata": {},
   "outputs": [
    {
     "data": {
      "text/plain": [
       "Index(['Series_Title', 'Released_Year', 'Certificate', 'Runtime', 'Genre',\n",
       "       'IMDB_Rating', 'Overview', 'Meta_score', 'Director', 'Romance',\n",
       "       'Sci-Fi', 'Adventure', 'Fantasy', 'Family', 'Horror', 'History',\n",
       "       'Comedy', 'Action', 'Thriller', 'Biography', 'Sport', 'Mystery', 'War',\n",
       "       'Musical', 'Drama', 'Animation', 'Film-Noir', 'Crime', 'Music',\n",
       "       'Western', 'positive_words', 'negative_words', 'verbs', 'stopwords'],\n",
       "      dtype='object')"
      ]
     },
     "execution_count": 78,
     "metadata": {},
     "output_type": "execute_result"
    }
   ],
   "source": [
    "imdb.columns"
   ]
  },
  {
   "cell_type": "code",
   "execution_count": null,
   "metadata": {},
   "outputs": [],
   "source": [
    "plt.figure(figsize = (12,10))\n",
    "sns.heatmap(imdb[['Released_Year', 'Certificate', 'Runtime',  'Meta_score', 'Director', 'genre1', 'genre2','genre3', 'IMDB_Rating']].corr(), annot = True)"
   ]
  },
  {
   "cell_type": "code",
   "execution_count": 79,
   "metadata": {},
   "outputs": [],
   "source": [
    "X_train, X_test, y_train, y_test = train_test_split(imdb[['Released_Year', 'Certificate', 'Runtime', \\\n",
    "                                                          'Meta_score', 'Director', 'positive_words', 'negative_words', 'verbs', 'stopwords']],\\\n",
    "                                                    imdb['IMDB_Rating'], test_size=0.3, random_state=42)"
   ]
  },
  {
   "cell_type": "code",
   "execution_count": null,
   "metadata": {},
   "outputs": [],
   "source": []
  },
  {
   "cell_type": "code",
   "execution_count": 80,
   "metadata": {},
   "outputs": [],
   "source": [
    "from sklearn.linear_model import LinearRegression"
   ]
  },
  {
   "cell_type": "code",
   "execution_count": 81,
   "metadata": {},
   "outputs": [],
   "source": [
    "lm = LinearRegression().fit(X_train, y_train)"
   ]
  },
  {
   "cell_type": "code",
   "execution_count": 82,
   "metadata": {},
   "outputs": [],
   "source": [
    "pred = lm.predict(X_test)"
   ]
  },
  {
   "cell_type": "code",
   "execution_count": 83,
   "metadata": {},
   "outputs": [],
   "source": [
    "from sklearn.metrics import mean_squared_error"
   ]
  },
  {
   "cell_type": "code",
   "execution_count": 84,
   "metadata": {},
   "outputs": [],
   "source": [
    "rms = mean_squared_error(y_test, pred, squared=False)"
   ]
  },
  {
   "cell_type": "code",
   "execution_count": 85,
   "metadata": {},
   "outputs": [
    {
     "data": {
      "text/plain": [
       "0.2515478448697119"
      ]
     },
     "execution_count": 85,
     "metadata": {},
     "output_type": "execute_result"
    }
   ],
   "source": [
    "rms"
   ]
  },
  {
   "cell_type": "code",
   "execution_count": 86,
   "metadata": {},
   "outputs": [
    {
     "data": {
      "text/plain": [
       "array([-0.00118717, -0.00139418,  0.00218788,  0.00484083,  0.11443452,\n",
       "       -0.02027484,  0.01803998,  0.        ,  0.        ])"
      ]
     },
     "execution_count": 86,
     "metadata": {},
     "output_type": "execute_result"
    }
   ],
   "source": [
    "lm.coef_"
   ]
  },
  {
   "cell_type": "code",
   "execution_count": 87,
   "metadata": {},
   "outputs": [],
   "source": [
    "import statsmodels.api as sm"
   ]
  },
  {
   "cell_type": "code",
   "execution_count": 88,
   "metadata": {},
   "outputs": [],
   "source": [
    "model0 = sm.OLS(y_train, X_train).fit()"
   ]
  },
  {
   "cell_type": "code",
   "execution_count": 89,
   "metadata": {},
   "outputs": [
    {
     "name": "stderr",
     "output_type": "stream",
     "text": [
      "C:\\Users\\chopr\\anaconda3\\lib\\site-packages\\statsmodels\\regression\\linear_model.py:1860: RuntimeWarning: divide by zero encountered in double_scalars\n",
      "  return np.sqrt(eigvals[0]/eigvals[-1])\n"
     ]
    },
    {
     "data": {
      "text/html": [
       "<table class=\"simpletable\">\n",
       "<caption>OLS Regression Results</caption>\n",
       "<tr>\n",
       "  <th>Dep. Variable:</th>       <td>IMDB_Rating</td>   <th>  R-squared (uncentered):</th>      <td>   0.999</td> \n",
       "</tr>\n",
       "<tr>\n",
       "  <th>Model:</th>                   <td>OLS</td>       <th>  Adj. R-squared (uncentered):</th> <td>   0.999</td> \n",
       "</tr>\n",
       "<tr>\n",
       "  <th>Method:</th>             <td>Least Squares</td>  <th>  F-statistic:       </th>          <td>8.358e+04</td>\n",
       "</tr>\n",
       "<tr>\n",
       "  <th>Date:</th>             <td>Thu, 25 Nov 2021</td> <th>  Prob (F-statistic):</th>           <td>  0.00</td>  \n",
       "</tr>\n",
       "<tr>\n",
       "  <th>Time:</th>                 <td>13:46:13</td>     <th>  Log-Likelihood:    </th>          <td> -85.880</td> \n",
       "</tr>\n",
       "<tr>\n",
       "  <th>No. Observations:</th>      <td>   700</td>      <th>  AIC:               </th>          <td>   185.8</td> \n",
       "</tr>\n",
       "<tr>\n",
       "  <th>Df Residuals:</th>          <td>   693</td>      <th>  BIC:               </th>          <td>   217.6</td> \n",
       "</tr>\n",
       "<tr>\n",
       "  <th>Df Model:</th>              <td>     7</td>      <th>                     </th>              <td> </td>    \n",
       "</tr>\n",
       "<tr>\n",
       "  <th>Covariance Type:</th>      <td>nonrobust</td>    <th>                     </th>              <td> </td>    \n",
       "</tr>\n",
       "</table>\n",
       "<table class=\"simpletable\">\n",
       "<tr>\n",
       "         <td></td>           <th>coef</th>     <th>std err</th>      <th>t</th>      <th>P>|t|</th>  <th>[0.025</th>    <th>0.975]</th>  \n",
       "</tr>\n",
       "<tr>\n",
       "  <th>Released_Year</th>  <td>    0.0036</td> <td> 4.52e-05</td> <td>   79.056</td> <td> 0.000</td> <td>    0.003</td> <td>    0.004</td>\n",
       "</tr>\n",
       "<tr>\n",
       "  <th>Certificate</th>    <td>   -0.0038</td> <td>    0.002</td> <td>   -1.707</td> <td> 0.088</td> <td>   -0.008</td> <td>    0.001</td>\n",
       "</tr>\n",
       "<tr>\n",
       "  <th>Runtime</th>        <td>    0.0016</td> <td>    0.000</td> <td>    4.247</td> <td> 0.000</td> <td>    0.001</td> <td>    0.002</td>\n",
       "</tr>\n",
       "<tr>\n",
       "  <th>Meta_score</th>     <td>    0.0081</td> <td>    0.001</td> <td>    9.015</td> <td> 0.000</td> <td>    0.006</td> <td>    0.010</td>\n",
       "</tr>\n",
       "<tr>\n",
       "  <th>Director</th>       <td>    0.1470</td> <td>    0.036</td> <td>    4.081</td> <td> 0.000</td> <td>    0.076</td> <td>    0.218</td>\n",
       "</tr>\n",
       "<tr>\n",
       "  <th>positive_words</th> <td>   -0.0110</td> <td>    0.013</td> <td>   -0.857</td> <td> 0.392</td> <td>   -0.036</td> <td>    0.014</td>\n",
       "</tr>\n",
       "<tr>\n",
       "  <th>negative_words</th> <td>    0.0199</td> <td>    0.010</td> <td>    1.995</td> <td> 0.046</td> <td>    0.000</td> <td>    0.040</td>\n",
       "</tr>\n",
       "<tr>\n",
       "  <th>verbs</th>          <td>         0</td> <td>        0</td> <td>      nan</td> <td>   nan</td> <td>        0</td> <td>        0</td>\n",
       "</tr>\n",
       "<tr>\n",
       "  <th>stopwords</th>      <td>         0</td> <td>        0</td> <td>      nan</td> <td>   nan</td> <td>        0</td> <td>        0</td>\n",
       "</tr>\n",
       "</table>\n",
       "<table class=\"simpletable\">\n",
       "<tr>\n",
       "  <th>Omnibus:</th>       <td>64.108</td> <th>  Durbin-Watson:     </th> <td>   1.935</td>\n",
       "</tr>\n",
       "<tr>\n",
       "  <th>Prob(Omnibus):</th> <td> 0.000</td> <th>  Jarque-Bera (JB):  </th> <td>  87.305</td>\n",
       "</tr>\n",
       "<tr>\n",
       "  <th>Skew:</th>          <td> 0.706</td> <th>  Prob(JB):          </th> <td>1.10e-19</td>\n",
       "</tr>\n",
       "<tr>\n",
       "  <th>Kurtosis:</th>      <td> 3.999</td> <th>  Cond. No.          </th> <td>     inf</td>\n",
       "</tr>\n",
       "</table><br/><br/>Notes:<br/>[1] R² is computed without centering (uncentered) since the model does not contain a constant.<br/>[2] Standard Errors assume that the covariance matrix of the errors is correctly specified.<br/>[3] The smallest eigenvalue is      0. This might indicate that there are<br/>strong multicollinearity problems or that the design matrix is singular."
      ],
      "text/plain": [
       "<class 'statsmodels.iolib.summary.Summary'>\n",
       "\"\"\"\n",
       "                                 OLS Regression Results                                \n",
       "=======================================================================================\n",
       "Dep. Variable:            IMDB_Rating   R-squared (uncentered):                   0.999\n",
       "Model:                            OLS   Adj. R-squared (uncentered):              0.999\n",
       "Method:                 Least Squares   F-statistic:                          8.358e+04\n",
       "Date:                Thu, 25 Nov 2021   Prob (F-statistic):                        0.00\n",
       "Time:                        13:46:13   Log-Likelihood:                         -85.880\n",
       "No. Observations:                 700   AIC:                                      185.8\n",
       "Df Residuals:                     693   BIC:                                      217.6\n",
       "Df Model:                           7                                                  \n",
       "Covariance Type:            nonrobust                                                  \n",
       "==================================================================================\n",
       "                     coef    std err          t      P>|t|      [0.025      0.975]\n",
       "----------------------------------------------------------------------------------\n",
       "Released_Year      0.0036   4.52e-05     79.056      0.000       0.003       0.004\n",
       "Certificate       -0.0038      0.002     -1.707      0.088      -0.008       0.001\n",
       "Runtime            0.0016      0.000      4.247      0.000       0.001       0.002\n",
       "Meta_score         0.0081      0.001      9.015      0.000       0.006       0.010\n",
       "Director           0.1470      0.036      4.081      0.000       0.076       0.218\n",
       "positive_words    -0.0110      0.013     -0.857      0.392      -0.036       0.014\n",
       "negative_words     0.0199      0.010      1.995      0.046       0.000       0.040\n",
       "verbs                   0          0        nan        nan           0           0\n",
       "stopwords               0          0        nan        nan           0           0\n",
       "==============================================================================\n",
       "Omnibus:                       64.108   Durbin-Watson:                   1.935\n",
       "Prob(Omnibus):                  0.000   Jarque-Bera (JB):               87.305\n",
       "Skew:                           0.706   Prob(JB):                     1.10e-19\n",
       "Kurtosis:                       3.999   Cond. No.                          inf\n",
       "==============================================================================\n",
       "\n",
       "Notes:\n",
       "[1] R² is computed without centering (uncentered) since the model does not contain a constant.\n",
       "[2] Standard Errors assume that the covariance matrix of the errors is correctly specified.\n",
       "[3] The smallest eigenvalue is      0. This might indicate that there are\n",
       "strong multicollinearity problems or that the design matrix is singular.\n",
       "\"\"\""
      ]
     },
     "execution_count": 89,
     "metadata": {},
     "output_type": "execute_result"
    }
   ],
   "source": [
    "model0.summary()"
   ]
  }
 ],
 "metadata": {
  "kernelspec": {
   "display_name": "Python 3",
   "language": "python",
   "name": "python3"
  },
  "language_info": {
   "codemirror_mode": {
    "name": "ipython",
    "version": 3
   },
   "file_extension": ".py",
   "mimetype": "text/x-python",
   "name": "python",
   "nbconvert_exporter": "python",
   "pygments_lexer": "ipython3",
   "version": "3.7.6"
  }
 },
 "nbformat": 4,
 "nbformat_minor": 4
}
