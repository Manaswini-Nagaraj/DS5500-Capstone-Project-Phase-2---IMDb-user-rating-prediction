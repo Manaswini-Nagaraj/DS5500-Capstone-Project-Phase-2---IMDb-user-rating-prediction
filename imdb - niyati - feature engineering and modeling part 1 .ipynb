{
 "cells": [
  {
   "cell_type": "code",
   "execution_count": 1,
   "metadata": {},
   "outputs": [],
   "source": [
    "import pandas as pd \n",
    "import numpy as np\n",
    "import seaborn as sns\n",
    "import matplotlib.pyplot as plt\n",
    "import nltk\n",
    "from sklearn.preprocessing import OrdinalEncoder\n",
    "from tqdm import tqdm\n",
    "import random\n",
    "from sklearn.metrics import r2_score"
   ]
  },
  {
   "cell_type": "code",
   "execution_count": 2,
   "metadata": {},
   "outputs": [],
   "source": [
    "imdb = pd.read_csv(\"imdb_top_1000.csv\")"
   ]
  },
  {
   "cell_type": "code",
   "execution_count": 3,
   "metadata": {},
   "outputs": [
    {
     "data": {
      "text/html": [
       "<div>\n",
       "<style scoped>\n",
       "    .dataframe tbody tr th:only-of-type {\n",
       "        vertical-align: middle;\n",
       "    }\n",
       "\n",
       "    .dataframe tbody tr th {\n",
       "        vertical-align: top;\n",
       "    }\n",
       "\n",
       "    .dataframe thead th {\n",
       "        text-align: right;\n",
       "    }\n",
       "</style>\n",
       "<table border=\"1\" class=\"dataframe\">\n",
       "  <thead>\n",
       "    <tr style=\"text-align: right;\">\n",
       "      <th></th>\n",
       "      <th>Poster_Link</th>\n",
       "      <th>Series_Title</th>\n",
       "      <th>Released_Year</th>\n",
       "      <th>Certificate</th>\n",
       "      <th>Runtime</th>\n",
       "      <th>Genre</th>\n",
       "      <th>IMDB_Rating</th>\n",
       "      <th>Overview</th>\n",
       "      <th>Meta_score</th>\n",
       "      <th>Director</th>\n",
       "      <th>Star1</th>\n",
       "      <th>Star2</th>\n",
       "      <th>Star3</th>\n",
       "      <th>Star4</th>\n",
       "      <th>No_of_Votes</th>\n",
       "      <th>Gross</th>\n",
       "    </tr>\n",
       "  </thead>\n",
       "  <tbody>\n",
       "    <tr>\n",
       "      <th>0</th>\n",
       "      <td>https://m.media-amazon.com/images/M/MV5BMDFkYT...</td>\n",
       "      <td>The Shawshank Redemption</td>\n",
       "      <td>1994</td>\n",
       "      <td>A</td>\n",
       "      <td>142 min</td>\n",
       "      <td>Drama</td>\n",
       "      <td>9.3</td>\n",
       "      <td>Two imprisoned men bond over a number of years...</td>\n",
       "      <td>80.0</td>\n",
       "      <td>Frank Darabont</td>\n",
       "      <td>Tim Robbins</td>\n",
       "      <td>Morgan Freeman</td>\n",
       "      <td>Bob Gunton</td>\n",
       "      <td>William Sadler</td>\n",
       "      <td>2343110</td>\n",
       "      <td>28,341,469</td>\n",
       "    </tr>\n",
       "    <tr>\n",
       "      <th>1</th>\n",
       "      <td>https://m.media-amazon.com/images/M/MV5BM2MyNj...</td>\n",
       "      <td>The Godfather</td>\n",
       "      <td>1972</td>\n",
       "      <td>A</td>\n",
       "      <td>175 min</td>\n",
       "      <td>Crime, Drama</td>\n",
       "      <td>9.2</td>\n",
       "      <td>An organized crime dynasty's aging patriarch t...</td>\n",
       "      <td>100.0</td>\n",
       "      <td>Francis Ford Coppola</td>\n",
       "      <td>Marlon Brando</td>\n",
       "      <td>Al Pacino</td>\n",
       "      <td>James Caan</td>\n",
       "      <td>Diane Keaton</td>\n",
       "      <td>1620367</td>\n",
       "      <td>134,966,411</td>\n",
       "    </tr>\n",
       "    <tr>\n",
       "      <th>2</th>\n",
       "      <td>https://m.media-amazon.com/images/M/MV5BMTMxNT...</td>\n",
       "      <td>The Dark Knight</td>\n",
       "      <td>2008</td>\n",
       "      <td>UA</td>\n",
       "      <td>152 min</td>\n",
       "      <td>Action, Crime, Drama</td>\n",
       "      <td>9.0</td>\n",
       "      <td>When the menace known as the Joker wreaks havo...</td>\n",
       "      <td>84.0</td>\n",
       "      <td>Christopher Nolan</td>\n",
       "      <td>Christian Bale</td>\n",
       "      <td>Heath Ledger</td>\n",
       "      <td>Aaron Eckhart</td>\n",
       "      <td>Michael Caine</td>\n",
       "      <td>2303232</td>\n",
       "      <td>534,858,444</td>\n",
       "    </tr>\n",
       "    <tr>\n",
       "      <th>3</th>\n",
       "      <td>https://m.media-amazon.com/images/M/MV5BMWMwMG...</td>\n",
       "      <td>The Godfather: Part II</td>\n",
       "      <td>1974</td>\n",
       "      <td>A</td>\n",
       "      <td>202 min</td>\n",
       "      <td>Crime, Drama</td>\n",
       "      <td>9.0</td>\n",
       "      <td>The early life and career of Vito Corleone in ...</td>\n",
       "      <td>90.0</td>\n",
       "      <td>Francis Ford Coppola</td>\n",
       "      <td>Al Pacino</td>\n",
       "      <td>Robert De Niro</td>\n",
       "      <td>Robert Duvall</td>\n",
       "      <td>Diane Keaton</td>\n",
       "      <td>1129952</td>\n",
       "      <td>57,300,000</td>\n",
       "    </tr>\n",
       "    <tr>\n",
       "      <th>4</th>\n",
       "      <td>https://m.media-amazon.com/images/M/MV5BMWU4N2...</td>\n",
       "      <td>12 Angry Men</td>\n",
       "      <td>1957</td>\n",
       "      <td>U</td>\n",
       "      <td>96 min</td>\n",
       "      <td>Crime, Drama</td>\n",
       "      <td>9.0</td>\n",
       "      <td>A jury holdout attempts to prevent a miscarria...</td>\n",
       "      <td>96.0</td>\n",
       "      <td>Sidney Lumet</td>\n",
       "      <td>Henry Fonda</td>\n",
       "      <td>Lee J. Cobb</td>\n",
       "      <td>Martin Balsam</td>\n",
       "      <td>John Fiedler</td>\n",
       "      <td>689845</td>\n",
       "      <td>4,360,000</td>\n",
       "    </tr>\n",
       "  </tbody>\n",
       "</table>\n",
       "</div>"
      ],
      "text/plain": [
       "                                         Poster_Link  \\\n",
       "0  https://m.media-amazon.com/images/M/MV5BMDFkYT...   \n",
       "1  https://m.media-amazon.com/images/M/MV5BM2MyNj...   \n",
       "2  https://m.media-amazon.com/images/M/MV5BMTMxNT...   \n",
       "3  https://m.media-amazon.com/images/M/MV5BMWMwMG...   \n",
       "4  https://m.media-amazon.com/images/M/MV5BMWU4N2...   \n",
       "\n",
       "               Series_Title Released_Year Certificate  Runtime  \\\n",
       "0  The Shawshank Redemption          1994           A  142 min   \n",
       "1             The Godfather          1972           A  175 min   \n",
       "2           The Dark Knight          2008          UA  152 min   \n",
       "3    The Godfather: Part II          1974           A  202 min   \n",
       "4              12 Angry Men          1957           U   96 min   \n",
       "\n",
       "                  Genre  IMDB_Rating  \\\n",
       "0                 Drama          9.3   \n",
       "1          Crime, Drama          9.2   \n",
       "2  Action, Crime, Drama          9.0   \n",
       "3          Crime, Drama          9.0   \n",
       "4          Crime, Drama          9.0   \n",
       "\n",
       "                                            Overview  Meta_score  \\\n",
       "0  Two imprisoned men bond over a number of years...        80.0   \n",
       "1  An organized crime dynasty's aging patriarch t...       100.0   \n",
       "2  When the menace known as the Joker wreaks havo...        84.0   \n",
       "3  The early life and career of Vito Corleone in ...        90.0   \n",
       "4  A jury holdout attempts to prevent a miscarria...        96.0   \n",
       "\n",
       "               Director           Star1           Star2          Star3  \\\n",
       "0        Frank Darabont     Tim Robbins  Morgan Freeman     Bob Gunton   \n",
       "1  Francis Ford Coppola   Marlon Brando       Al Pacino     James Caan   \n",
       "2     Christopher Nolan  Christian Bale    Heath Ledger  Aaron Eckhart   \n",
       "3  Francis Ford Coppola       Al Pacino  Robert De Niro  Robert Duvall   \n",
       "4          Sidney Lumet     Henry Fonda     Lee J. Cobb  Martin Balsam   \n",
       "\n",
       "            Star4  No_of_Votes        Gross  \n",
       "0  William Sadler      2343110   28,341,469  \n",
       "1    Diane Keaton      1620367  134,966,411  \n",
       "2   Michael Caine      2303232  534,858,444  \n",
       "3    Diane Keaton      1129952   57,300,000  \n",
       "4    John Fiedler       689845    4,360,000  "
      ]
     },
     "execution_count": 3,
     "metadata": {},
     "output_type": "execute_result"
    }
   ],
   "source": [
    "imdb.head()"
   ]
  },
  {
   "cell_type": "code",
   "execution_count": 4,
   "metadata": {},
   "outputs": [
    {
     "name": "stdout",
     "output_type": "stream",
     "text": [
      "Index(['Poster_Link', 'Series_Title', 'Released_Year', 'Certificate',\n",
      "       'Runtime', 'Genre', 'IMDB_Rating', 'Overview', 'Meta_score', 'Director',\n",
      "       'Star1', 'Star2', 'Star3', 'Star4', 'No_of_Votes', 'Gross'],\n",
      "      dtype='object')\n"
     ]
    }
   ],
   "source": [
    "print(imdb.columns)"
   ]
  },
  {
   "cell_type": "code",
   "execution_count": 5,
   "metadata": {},
   "outputs": [
    {
     "data": {
      "text/plain": [
       "202"
      ]
     },
     "execution_count": 5,
     "metadata": {},
     "output_type": "execute_result"
    }
   ],
   "source": [
    "imdb.Genre.nunique()"
   ]
  },
  {
   "cell_type": "code",
   "execution_count": 6,
   "metadata": {},
   "outputs": [],
   "source": [
    "#dropping extra columns\n",
    "imdb = imdb.drop(['Poster_Link','Star1', 'Star2', 'Star3', 'Star4', 'No_of_Votes', 'Gross'], axis = 1)"
   ]
  },
  {
   "cell_type": "code",
   "execution_count": 7,
   "metadata": {},
   "outputs": [
    {
     "name": "stdout",
     "output_type": "stream",
     "text": [
      "<class 'pandas.core.frame.DataFrame'>\n",
      "RangeIndex: 1000 entries, 0 to 999\n",
      "Data columns (total 9 columns):\n",
      " #   Column         Non-Null Count  Dtype  \n",
      "---  ------         --------------  -----  \n",
      " 0   Series_Title   1000 non-null   object \n",
      " 1   Released_Year  1000 non-null   object \n",
      " 2   Certificate    899 non-null    object \n",
      " 3   Runtime        1000 non-null   object \n",
      " 4   Genre          1000 non-null   object \n",
      " 5   IMDB_Rating    1000 non-null   float64\n",
      " 6   Overview       1000 non-null   object \n",
      " 7   Meta_score     843 non-null    float64\n",
      " 8   Director       1000 non-null   object \n",
      "dtypes: float64(2), object(7)\n",
      "memory usage: 70.4+ KB\n"
     ]
    }
   ],
   "source": [
    "imdb.info()"
   ]
  },
  {
   "cell_type": "code",
   "execution_count": 8,
   "metadata": {},
   "outputs": [
    {
     "name": "stdout",
     "output_type": "stream",
     "text": [
      "Number of null values in each column:\n",
      "Series_Title       0\n",
      "Released_Year      0\n",
      "Certificate      101\n",
      "Runtime            0\n",
      "Genre              0\n",
      "IMDB_Rating        0\n",
      "Overview           0\n",
      "Meta_score       157\n",
      "Director           0\n",
      "dtype: int64\n"
     ]
    }
   ],
   "source": [
    "print(\"Number of null values in each column:\")\n",
    "print(imdb.isnull().sum())"
   ]
  },
  {
   "cell_type": "markdown",
   "metadata": {},
   "source": [
    "#### handling null values - meta score and certificate"
   ]
  },
  {
   "cell_type": "code",
   "execution_count": 9,
   "metadata": {},
   "outputs": [],
   "source": [
    "imdb.Meta_score = imdb.Meta_score.fillna(imdb.Meta_score.mean())"
   ]
  },
  {
   "cell_type": "code",
   "execution_count": 10,
   "metadata": {},
   "outputs": [
    {
     "data": {
      "text/plain": [
       "77.97153024911032"
      ]
     },
     "execution_count": 10,
     "metadata": {},
     "output_type": "execute_result"
    }
   ],
   "source": [
    "imdb.Meta_score[20] #done"
   ]
  },
  {
   "cell_type": "code",
   "execution_count": 11,
   "metadata": {},
   "outputs": [],
   "source": [
    "imdb.Certificate = imdb.Certificate.fillna(imdb.Certificate.value_counts().index[0])\n",
    "#df.fillna(df['Label'].value_counts().index[0]"
   ]
  },
  {
   "cell_type": "code",
   "execution_count": 12,
   "metadata": {},
   "outputs": [
    {
     "name": "stdout",
     "output_type": "stream",
     "text": [
      "<class 'pandas.core.frame.DataFrame'>\n",
      "RangeIndex: 1000 entries, 0 to 999\n",
      "Data columns (total 9 columns):\n",
      " #   Column         Non-Null Count  Dtype  \n",
      "---  ------         --------------  -----  \n",
      " 0   Series_Title   1000 non-null   object \n",
      " 1   Released_Year  1000 non-null   object \n",
      " 2   Certificate    1000 non-null   object \n",
      " 3   Runtime        1000 non-null   object \n",
      " 4   Genre          1000 non-null   object \n",
      " 5   IMDB_Rating    1000 non-null   float64\n",
      " 6   Overview       1000 non-null   object \n",
      " 7   Meta_score     1000 non-null   float64\n",
      " 8   Director       1000 non-null   object \n",
      "dtypes: float64(2), object(7)\n",
      "memory usage: 70.4+ KB\n"
     ]
    }
   ],
   "source": [
    "imdb.info() #done"
   ]
  },
  {
   "cell_type": "markdown",
   "metadata": {},
   "source": [
    "#### making director a 0/1 column\n",
    "1 if the director is in the top 10 frequent directors else 0"
   ]
  },
  {
   "cell_type": "code",
   "execution_count": 13,
   "metadata": {},
   "outputs": [],
   "source": [
    "top10dir = list(pd.value_counts(imdb.Director)[:10].index)"
   ]
  },
  {
   "cell_type": "code",
   "execution_count": 14,
   "metadata": {},
   "outputs": [],
   "source": [
    "dir1 = []\n",
    "for i in imdb.Director:\n",
    "    if i in top10dir:\n",
    "        dir1.append(1)\n",
    "    else:\n",
    "        dir1.append(0)"
   ]
  },
  {
   "cell_type": "code",
   "execution_count": 15,
   "metadata": {},
   "outputs": [],
   "source": [
    "imdb.Director = dir1"
   ]
  },
  {
   "cell_type": "markdown",
   "metadata": {},
   "source": [
    "#### encoding categorical variables: certificate and genre"
   ]
  },
  {
   "cell_type": "code",
   "execution_count": 16,
   "metadata": {},
   "outputs": [
    {
     "data": {
      "text/plain": [
       "array([[ 1.],\n",
       "       [ 1.],\n",
       "       [14.],\n",
       "       [ 1.],\n",
       "       [12.]])"
      ]
     },
     "execution_count": 16,
     "metadata": {},
     "output_type": "execute_result"
    }
   ],
   "source": [
    "cert = np.asarray(imdb.Certificate).reshape(-1,1)\n",
    "encoder = OrdinalEncoder()\n",
    "cert = encoder.fit_transform(cert)\n",
    "cert[:5]"
   ]
  },
  {
   "cell_type": "code",
   "execution_count": 17,
   "metadata": {},
   "outputs": [],
   "source": [
    "cert1 = []\n",
    "for i in cert:\n",
    "    cert1.append((int(i[0])))"
   ]
  },
  {
   "cell_type": "code",
   "execution_count": 18,
   "metadata": {},
   "outputs": [],
   "source": [
    "imdb.Certificate = cert1"
   ]
  },
  {
   "cell_type": "code",
   "execution_count": 19,
   "metadata": {},
   "outputs": [
    {
     "name": "stdout",
     "output_type": "stream",
     "text": [
      "<class 'pandas.core.frame.DataFrame'>\n",
      "RangeIndex: 1000 entries, 0 to 999\n",
      "Data columns (total 9 columns):\n",
      " #   Column         Non-Null Count  Dtype  \n",
      "---  ------         --------------  -----  \n",
      " 0   Series_Title   1000 non-null   object \n",
      " 1   Released_Year  1000 non-null   object \n",
      " 2   Certificate    1000 non-null   int64  \n",
      " 3   Runtime        1000 non-null   object \n",
      " 4   Genre          1000 non-null   object \n",
      " 5   IMDB_Rating    1000 non-null   float64\n",
      " 6   Overview       1000 non-null   object \n",
      " 7   Meta_score     1000 non-null   float64\n",
      " 8   Director       1000 non-null   int64  \n",
      "dtypes: float64(2), int64(2), object(5)\n",
      "memory usage: 70.4+ KB\n"
     ]
    }
   ],
   "source": [
    "imdb.info()"
   ]
  },
  {
   "cell_type": "markdown",
   "metadata": {},
   "source": [
    "### ENCODING GENRE IN ONE COLUMN"
   ]
  },
  {
   "cell_type": "markdown",
   "metadata": {},
   "source": [
    "gggg = np.asarray(imdb.Genre).reshape(-1,1)\n",
    "encoder = OrdinalEncoder()\n",
    "gggg = encoder.fit_transform(gggg)\n",
    "gggg[:5]"
   ]
  },
  {
   "cell_type": "markdown",
   "metadata": {},
   "source": [
    "gggg1 = []\n",
    "for i in gggg:\n",
    "    gggg1.append((int(i[0])))\n",
    "gggg1[:5]"
   ]
  },
  {
   "cell_type": "markdown",
   "metadata": {},
   "source": [
    "imdb[\"GenreEncoded\"]= gggg1"
   ]
  },
  {
   "cell_type": "markdown",
   "metadata": {},
   "source": [
    "imdb.info()"
   ]
  },
  {
   "cell_type": "code",
   "execution_count": null,
   "metadata": {},
   "outputs": [],
   "source": []
  },
  {
   "cell_type": "code",
   "execution_count": null,
   "metadata": {},
   "outputs": [],
   "source": []
  },
  {
   "cell_type": "markdown",
   "metadata": {},
   "source": [
    "for genre, i want to do maybe one hot encoding? because there are multiple possible values for genre. either split it into multiple columns. yes. one hot encoding is better. "
   ]
  },
  {
   "cell_type": "code",
   "execution_count": 20,
   "metadata": {},
   "outputs": [],
   "source": [
    "from sklearn.preprocessing import OneHotEncoder"
   ]
  },
  {
   "cell_type": "code",
   "execution_count": 21,
   "metadata": {},
   "outputs": [],
   "source": [
    "onehot = OneHotEncoder()"
   ]
  },
  {
   "cell_type": "code",
   "execution_count": 22,
   "metadata": {},
   "outputs": [],
   "source": [
    "temp_g = onehot.fit_transform(np.asarray(imdb.Genre).reshape(-1,1))"
   ]
  },
  {
   "cell_type": "code",
   "execution_count": 23,
   "metadata": {},
   "outputs": [
    {
     "data": {
      "text/plain": [
       "Drama        724\n",
       "Comedy       233\n",
       "Crime        209\n",
       "Adventure    196\n",
       "Action       189\n",
       "Thriller     137\n",
       "Romance      125\n",
       "Biography    109\n",
       "Mystery       99\n",
       "Animation     82\n",
       "Sci-Fi        67\n",
       "Fantasy       66\n",
       "History       56\n",
       "Family        56\n",
       "War           51\n",
       "Music         35\n",
       "Horror        32\n",
       "Western       20\n",
       "Film-Noir     19\n",
       "Sport         19\n",
       "Musical       17\n",
       "dtype: int64"
      ]
     },
     "execution_count": 23,
     "metadata": {},
     "output_type": "execute_result"
    }
   ],
   "source": [
    "genres = []\n",
    "for i in imdb.Genre:\n",
    "    i = i.split(\",\")\n",
    "    for j in i:\n",
    "        genres.append(j.strip())\n",
    "pd.value_counts(pd.Series(genres))"
   ]
  },
  {
   "cell_type": "code",
   "execution_count": 24,
   "metadata": {},
   "outputs": [],
   "source": [
    "genres_dict = {}\n",
    "k = 0\n",
    "for i in set(genres):\n",
    "    genres_dict[i] = k \n",
    "    k +=1\n"
   ]
  },
  {
   "cell_type": "code",
   "execution_count": 25,
   "metadata": {},
   "outputs": [
    {
     "data": {
      "text/plain": [
       "{'Animation': 0,\n",
       " 'Mystery': 1,\n",
       " 'Action': 2,\n",
       " 'Musical': 3,\n",
       " 'Biography': 4,\n",
       " 'Crime': 5,\n",
       " 'Western': 6,\n",
       " 'War': 7,\n",
       " 'Family': 8,\n",
       " 'Horror': 9,\n",
       " 'Music': 10,\n",
       " 'Film-Noir': 11,\n",
       " 'Fantasy': 12,\n",
       " 'Sci-Fi': 13,\n",
       " 'Drama': 14,\n",
       " 'Romance': 15,\n",
       " 'Sport': 16,\n",
       " 'History': 17,\n",
       " 'Comedy': 18,\n",
       " 'Thriller': 19,\n",
       " 'Adventure': 20}"
      ]
     },
     "execution_count": 25,
     "metadata": {},
     "output_type": "execute_result"
    }
   ],
   "source": [
    "genres_dict #encoded genres"
   ]
  },
  {
   "cell_type": "code",
   "execution_count": 26,
   "metadata": {},
   "outputs": [],
   "source": [
    "#genres_dict[\"\"] = 21"
   ]
  },
  {
   "cell_type": "code",
   "execution_count": 27,
   "metadata": {},
   "outputs": [],
   "source": [
    "#genres_dict"
   ]
  },
  {
   "cell_type": "code",
   "execution_count": 28,
   "metadata": {},
   "outputs": [],
   "source": [
    "gen_arr = []\n",
    "for i in range(1000):\n",
    "    gen_arr.append([])\n",
    "    for j in range(21):\n",
    "        gen_arr[i].append(0) #1000 rows, 21 cols for each genre\n",
    "gen_arr = np.asarray(gen_arr)"
   ]
  },
  {
   "cell_type": "code",
   "execution_count": 29,
   "metadata": {},
   "outputs": [
    {
     "data": {
      "text/plain": [
       "array([[0, 0, 0, ..., 0, 0, 0],\n",
       "       [0, 0, 0, ..., 0, 0, 0],\n",
       "       [0, 0, 0, ..., 0, 0, 0],\n",
       "       ...,\n",
       "       [0, 0, 0, ..., 0, 0, 0],\n",
       "       [0, 0, 0, ..., 0, 0, 0],\n",
       "       [0, 0, 0, ..., 0, 0, 0]])"
      ]
     },
     "execution_count": 29,
     "metadata": {},
     "output_type": "execute_result"
    }
   ],
   "source": [
    "gen_arr"
   ]
  },
  {
   "cell_type": "code",
   "execution_count": 30,
   "metadata": {},
   "outputs": [],
   "source": [
    "gen1 = []\n",
    "for i in imdb.Genre:\n",
    "    genres1 = i.split(\",\")\n",
    "    genres1 = [j.strip() for j in genres1]\n",
    "    gen1.append(genres1)"
   ]
  },
  {
   "cell_type": "code",
   "execution_count": 31,
   "metadata": {},
   "outputs": [],
   "source": [
    "gg = list(genres_dict.keys())\n",
    "gg.index('Comedy')\n",
    "\n",
    "for i in range(len(gen1)):\n",
    "    for j in gen1[i]:\n",
    "        #print(j)\n",
    "        gen_arr[i][gg.index(j)] = 1\n"
   ]
  },
  {
   "cell_type": "code",
   "execution_count": 32,
   "metadata": {},
   "outputs": [],
   "source": [
    "genarrt = gen_arr.transpose()"
   ]
  },
  {
   "cell_type": "code",
   "execution_count": 33,
   "metadata": {},
   "outputs": [],
   "source": [
    "for i in range(len(gg)):\n",
    "    imdb[gg[i]] = list(genarrt[i])"
   ]
  },
  {
   "cell_type": "code",
   "execution_count": 34,
   "metadata": {},
   "outputs": [
    {
     "name": "stdout",
     "output_type": "stream",
     "text": [
      "<class 'pandas.core.frame.DataFrame'>\n",
      "RangeIndex: 1000 entries, 0 to 999\n",
      "Data columns (total 30 columns):\n",
      " #   Column         Non-Null Count  Dtype  \n",
      "---  ------         --------------  -----  \n",
      " 0   Series_Title   1000 non-null   object \n",
      " 1   Released_Year  1000 non-null   object \n",
      " 2   Certificate    1000 non-null   int64  \n",
      " 3   Runtime        1000 non-null   object \n",
      " 4   Genre          1000 non-null   object \n",
      " 5   IMDB_Rating    1000 non-null   float64\n",
      " 6   Overview       1000 non-null   object \n",
      " 7   Meta_score     1000 non-null   float64\n",
      " 8   Director       1000 non-null   int64  \n",
      " 9   Animation      1000 non-null   int64  \n",
      " 10  Mystery        1000 non-null   int64  \n",
      " 11  Action         1000 non-null   int64  \n",
      " 12  Musical        1000 non-null   int64  \n",
      " 13  Biography      1000 non-null   int64  \n",
      " 14  Crime          1000 non-null   int64  \n",
      " 15  Western        1000 non-null   int64  \n",
      " 16  War            1000 non-null   int64  \n",
      " 17  Family         1000 non-null   int64  \n",
      " 18  Horror         1000 non-null   int64  \n",
      " 19  Music          1000 non-null   int64  \n",
      " 20  Film-Noir      1000 non-null   int64  \n",
      " 21  Fantasy        1000 non-null   int64  \n",
      " 22  Sci-Fi         1000 non-null   int64  \n",
      " 23  Drama          1000 non-null   int64  \n",
      " 24  Romance        1000 non-null   int64  \n",
      " 25  Sport          1000 non-null   int64  \n",
      " 26  History        1000 non-null   int64  \n",
      " 27  Comedy         1000 non-null   int64  \n",
      " 28  Thriller       1000 non-null   int64  \n",
      " 29  Adventure      1000 non-null   int64  \n",
      "dtypes: float64(2), int64(23), object(5)\n",
      "memory usage: 234.5+ KB\n"
     ]
    }
   ],
   "source": [
    "imdb.info()"
   ]
  },
  {
   "cell_type": "code",
   "execution_count": 35,
   "metadata": {},
   "outputs": [],
   "source": [
    "##"
   ]
  },
  {
   "cell_type": "markdown",
   "metadata": {},
   "source": [
    "#### convert Released_Year, Runtime to int because it is of type string right now"
   ]
  },
  {
   "cell_type": "code",
   "execution_count": 36,
   "metadata": {},
   "outputs": [],
   "source": [
    "year = []\n",
    "time = []\n",
    "for i in range(1000):\n",
    "    if imdb.Released_Year[i] != 'PG':\n",
    "        year.append(int(imdb.Released_Year[i]))\n",
    "    else:\n",
    "        year.append(1995) #apollo 13 was released in 1995\n",
    "    \n",
    "    time.append(int(imdb.Runtime[i].split(\" \")[0]))"
   ]
  },
  {
   "cell_type": "code",
   "execution_count": 37,
   "metadata": {},
   "outputs": [],
   "source": [
    "imdb.Released_Year = year\n",
    "imdb.Runtime = time"
   ]
  },
  {
   "cell_type": "code",
   "execution_count": 38,
   "metadata": {},
   "outputs": [
    {
     "name": "stdout",
     "output_type": "stream",
     "text": [
      "<class 'pandas.core.frame.DataFrame'>\n",
      "RangeIndex: 1000 entries, 0 to 999\n",
      "Data columns (total 30 columns):\n",
      " #   Column         Non-Null Count  Dtype  \n",
      "---  ------         --------------  -----  \n",
      " 0   Series_Title   1000 non-null   object \n",
      " 1   Released_Year  1000 non-null   int64  \n",
      " 2   Certificate    1000 non-null   int64  \n",
      " 3   Runtime        1000 non-null   int64  \n",
      " 4   Genre          1000 non-null   object \n",
      " 5   IMDB_Rating    1000 non-null   float64\n",
      " 6   Overview       1000 non-null   object \n",
      " 7   Meta_score     1000 non-null   float64\n",
      " 8   Director       1000 non-null   int64  \n",
      " 9   Animation      1000 non-null   int64  \n",
      " 10  Mystery        1000 non-null   int64  \n",
      " 11  Action         1000 non-null   int64  \n",
      " 12  Musical        1000 non-null   int64  \n",
      " 13  Biography      1000 non-null   int64  \n",
      " 14  Crime          1000 non-null   int64  \n",
      " 15  Western        1000 non-null   int64  \n",
      " 16  War            1000 non-null   int64  \n",
      " 17  Family         1000 non-null   int64  \n",
      " 18  Horror         1000 non-null   int64  \n",
      " 19  Music          1000 non-null   int64  \n",
      " 20  Film-Noir      1000 non-null   int64  \n",
      " 21  Fantasy        1000 non-null   int64  \n",
      " 22  Sci-Fi         1000 non-null   int64  \n",
      " 23  Drama          1000 non-null   int64  \n",
      " 24  Romance        1000 non-null   int64  \n",
      " 25  Sport          1000 non-null   int64  \n",
      " 26  History        1000 non-null   int64  \n",
      " 27  Comedy         1000 non-null   int64  \n",
      " 28  Thriller       1000 non-null   int64  \n",
      " 29  Adventure      1000 non-null   int64  \n",
      "dtypes: float64(2), int64(25), object(3)\n",
      "memory usage: 234.5+ KB\n"
     ]
    }
   ],
   "source": [
    "imdb.info()"
   ]
  },
  {
   "cell_type": "code",
   "execution_count": 39,
   "metadata": {},
   "outputs": [
    {
     "data": {
      "text/plain": [
       "202"
      ]
     },
     "execution_count": 39,
     "metadata": {},
     "output_type": "execute_result"
    }
   ],
   "source": [
    "imdb.Genre.nunique()"
   ]
  },
  {
   "cell_type": "markdown",
   "metadata": {},
   "source": [
    "## NLP tasks on overvieiw and title"
   ]
  },
  {
   "cell_type": "code",
   "execution_count": 40,
   "metadata": {},
   "outputs": [],
   "source": [
    "from nltk.corpus import stopwords"
   ]
  },
  {
   "cell_type": "markdown",
   "metadata": {},
   "source": [
    "verbs: https://github.com/datmt/English-Verbs/blob/master/verbsList <br/>\n",
    "positive words: https://gist.github.com/mkulakowski2/4289437 <br/>\n",
    "negative words: https://gist.github.com/mkulakowski2/4289441"
   ]
  },
  {
   "cell_type": "code",
   "execution_count": 41,
   "metadata": {},
   "outputs": [],
   "source": [
    "pos = open(\"positive words.txt\", \"r\")\n",
    "pos = list(pos.read().split(\"\\n\"))\n",
    "neg = open(\"negative words.txt\", \"r\")\n",
    "neg = list(neg.read().split(\"\\n\"))\n",
    "verbs = open(\"verbs.txt\", \"r\")\n",
    "verbs = list(verbs.read().split(\"\\n\"))\n",
    "stops = set(stopwords.words('english'))"
   ]
  },
  {
   "cell_type": "code",
   "execution_count": 42,
   "metadata": {},
   "outputs": [],
   "source": [
    "#pos"
   ]
  },
  {
   "cell_type": "markdown",
   "metadata": {},
   "source": [
    "#### NLP cleaning"
   ]
  },
  {
   "cell_type": "markdown",
   "metadata": {},
   "source": [
    "- removing punctuation\n",
    "- lower case\n"
   ]
  },
  {
   "cell_type": "code",
   "execution_count": 43,
   "metadata": {},
   "outputs": [],
   "source": [
    "text_all = []\n",
    "for i in range(1000):\n",
    "    thing = imdb.Series_Title[i]+\". \"+imdb.Overview[i]\n",
    "    text_all.append(thing)"
   ]
  },
  {
   "cell_type": "code",
   "execution_count": 44,
   "metadata": {},
   "outputs": [],
   "source": [
    "def remove_punc(str1):\n",
    "    str2 = \"\"\n",
    "    for i in str1:\n",
    "        if i.isalpha() == True or i == \" \":\n",
    "            str2 = str2+i\n",
    "    str2 = str.lower(str2)\n",
    "    return str2"
   ]
  },
  {
   "cell_type": "code",
   "execution_count": 45,
   "metadata": {},
   "outputs": [],
   "source": [
    "text_all1 = []\n",
    "for i in text_all:\n",
    "    text_all1.append(remove_punc(i))\n",
    "#text_all1"
   ]
  },
  {
   "cell_type": "code",
   "execution_count": 46,
   "metadata": {},
   "outputs": [],
   "source": [
    "def count_stuff(str1):\n",
    "    p=0\n",
    "    n=0\n",
    "    v=0\n",
    "    s=0\n",
    "    #pos words, neg words, stopwords, verbsif j in pos:\n",
    "    for i in str1.split():\n",
    "        if i in pos:\n",
    "            p+=1\n",
    "        if i in neg:\n",
    "            n+=1\n",
    "        if i in verbs:\n",
    "            v +=1\n",
    "        if i in stops:\n",
    "            s+=1\n",
    "    return [p,n,v,s]"
   ]
  },
  {
   "cell_type": "code",
   "execution_count": 47,
   "metadata": {},
   "outputs": [
    {
     "data": {
      "text/plain": [
       "[2, 1, 6, 9]"
      ]
     },
     "execution_count": 47,
     "metadata": {},
     "output_type": "execute_result"
    }
   ],
   "source": [
    "count_stuff(text_all1[101])"
   ]
  },
  {
   "cell_type": "code",
   "execution_count": 48,
   "metadata": {},
   "outputs": [
    {
     "data": {
      "text/plain": [
       "'the lord of the rings the fellowship of the ring a meek hobbit from the shire and eight companions set out on a journey to destroy the powerful one ring and save middleearth from the dark lord sauron'"
      ]
     },
     "execution_count": 48,
     "metadata": {},
     "output_type": "execute_result"
    }
   ],
   "source": [
    "text_all1[10]"
   ]
  },
  {
   "cell_type": "code",
   "execution_count": null,
   "metadata": {},
   "outputs": [],
   "source": []
  },
  {
   "cell_type": "code",
   "execution_count": null,
   "metadata": {},
   "outputs": [],
   "source": []
  },
  {
   "cell_type": "code",
   "execution_count": 49,
   "metadata": {},
   "outputs": [
    {
     "name": "stderr",
     "output_type": "stream",
     "text": [
      "100%|██████████████████████████████████████████████████████████████████████████████| 1000/1000 [00:18<00:00, 54.75it/s]\n"
     ]
    }
   ],
   "source": [
    "pw = []\n",
    "nw = []\n",
    "vv = []\n",
    "sw = []\n",
    "for i in tqdm(text_all1):\n",
    "    pw.append(count_stuff(i)[0])\n",
    "    nw.append(count_stuff(i)[1])\n",
    "    vv.append(count_stuff(i)[2])\n",
    "    sw.append(count_stuff(i)[3])    "
   ]
  },
  {
   "cell_type": "code",
   "execution_count": null,
   "metadata": {},
   "outputs": [],
   "source": []
  },
  {
   "cell_type": "code",
   "execution_count": 50,
   "metadata": {},
   "outputs": [],
   "source": [
    "imdb['positive_words'] = pw\n",
    "imdb['negative_words'] = nw\n",
    "imdb['verbs'] = vv\n",
    "imdb['stopwords'] = sw"
   ]
  },
  {
   "cell_type": "code",
   "execution_count": 51,
   "metadata": {},
   "outputs": [
    {
     "name": "stdout",
     "output_type": "stream",
     "text": [
      "<class 'pandas.core.frame.DataFrame'>\n",
      "RangeIndex: 1000 entries, 0 to 999\n",
      "Data columns (total 34 columns):\n",
      " #   Column          Non-Null Count  Dtype  \n",
      "---  ------          --------------  -----  \n",
      " 0   Series_Title    1000 non-null   object \n",
      " 1   Released_Year   1000 non-null   int64  \n",
      " 2   Certificate     1000 non-null   int64  \n",
      " 3   Runtime         1000 non-null   int64  \n",
      " 4   Genre           1000 non-null   object \n",
      " 5   IMDB_Rating     1000 non-null   float64\n",
      " 6   Overview        1000 non-null   object \n",
      " 7   Meta_score      1000 non-null   float64\n",
      " 8   Director        1000 non-null   int64  \n",
      " 9   Animation       1000 non-null   int64  \n",
      " 10  Mystery         1000 non-null   int64  \n",
      " 11  Action          1000 non-null   int64  \n",
      " 12  Musical         1000 non-null   int64  \n",
      " 13  Biography       1000 non-null   int64  \n",
      " 14  Crime           1000 non-null   int64  \n",
      " 15  Western         1000 non-null   int64  \n",
      " 16  War             1000 non-null   int64  \n",
      " 17  Family          1000 non-null   int64  \n",
      " 18  Horror          1000 non-null   int64  \n",
      " 19  Music           1000 non-null   int64  \n",
      " 20  Film-Noir       1000 non-null   int64  \n",
      " 21  Fantasy         1000 non-null   int64  \n",
      " 22  Sci-Fi          1000 non-null   int64  \n",
      " 23  Drama           1000 non-null   int64  \n",
      " 24  Romance         1000 non-null   int64  \n",
      " 25  Sport           1000 non-null   int64  \n",
      " 26  History         1000 non-null   int64  \n",
      " 27  Comedy          1000 non-null   int64  \n",
      " 28  Thriller        1000 non-null   int64  \n",
      " 29  Adventure       1000 non-null   int64  \n",
      " 30  positive_words  1000 non-null   int64  \n",
      " 31  negative_words  1000 non-null   int64  \n",
      " 32  verbs           1000 non-null   int64  \n",
      " 33  stopwords       1000 non-null   int64  \n",
      "dtypes: float64(2), int64(29), object(3)\n",
      "memory usage: 265.8+ KB\n"
     ]
    }
   ],
   "source": [
    "imdb.info()"
   ]
  },
  {
   "cell_type": "code",
   "execution_count": 52,
   "metadata": {},
   "outputs": [
    {
     "name": "stdout",
     "output_type": "stream",
     "text": [
      "<class 'pandas.core.frame.DataFrame'>\n",
      "RangeIndex: 1000 entries, 0 to 999\n",
      "Data columns (total 10 columns):\n",
      " #   Column          Non-Null Count  Dtype  \n",
      "---  ------          --------------  -----  \n",
      " 0   Released_Year   1000 non-null   int64  \n",
      " 1   Certificate     1000 non-null   int64  \n",
      " 2   Runtime         1000 non-null   int64  \n",
      " 3   Meta_score      1000 non-null   float64\n",
      " 4   Director        1000 non-null   int64  \n",
      " 5   positive_words  1000 non-null   int64  \n",
      " 6   negative_words  1000 non-null   int64  \n",
      " 7   verbs           1000 non-null   int64  \n",
      " 8   stopwords       1000 non-null   int64  \n",
      " 9   IMDB_Rating     1000 non-null   float64\n",
      "dtypes: float64(2), int64(8)\n",
      "memory usage: 78.2 KB\n"
     ]
    }
   ],
   "source": [
    "imdb[['Released_Year', 'Certificate', 'Runtime', \\\n",
    "       'Meta_score', 'Director',\\\n",
    "       'positive_words', 'negative_words', 'verbs', 'stopwords', 'IMDB_Rating']].info()"
   ]
  },
  {
   "cell_type": "code",
   "execution_count": 53,
   "metadata": {},
   "outputs": [],
   "source": [
    "#pd.value_counts(imdb.stopwords)"
   ]
  },
  {
   "cell_type": "markdown",
   "metadata": {},
   "source": [
    "#### Train test split and correlation"
   ]
  },
  {
   "cell_type": "code",
   "execution_count": 54,
   "metadata": {},
   "outputs": [],
   "source": [
    "from sklearn.model_selection import train_test_split"
   ]
  },
  {
   "cell_type": "code",
   "execution_count": 55,
   "metadata": {},
   "outputs": [
    {
     "data": {
      "text/plain": [
       "Index(['Series_Title', 'Released_Year', 'Certificate', 'Runtime', 'Genre',\n",
       "       'IMDB_Rating', 'Overview', 'Meta_score', 'Director', 'Animation',\n",
       "       'Mystery', 'Action', 'Musical', 'Biography', 'Crime', 'Western', 'War',\n",
       "       'Family', 'Horror', 'Music', 'Film-Noir', 'Fantasy', 'Sci-Fi', 'Drama',\n",
       "       'Romance', 'Sport', 'History', 'Comedy', 'Thriller', 'Adventure',\n",
       "       'positive_words', 'negative_words', 'verbs', 'stopwords'],\n",
       "      dtype='object')"
      ]
     },
     "execution_count": 55,
     "metadata": {},
     "output_type": "execute_result"
    }
   ],
   "source": [
    "imdb.columns"
   ]
  },
  {
   "cell_type": "code",
   "execution_count": 56,
   "metadata": {},
   "outputs": [],
   "source": [
    "X_train, X_test, y_train, y_test = train_test_split(imdb[\\\n",
    "    ['Released_Year', 'Certificate', 'Runtime',\\\n",
    "        'Meta_score', 'Director', 'Mystery',\\\n",
    "       'Film-Noir', 'Action', 'Family', 'Romance', 'Comedy', 'Music',\\\n",
    "       'History', 'Sport', 'Animation', 'Drama', 'Thriller', 'Biography',\\\n",
    "       'War', 'Crime', 'Adventure', 'Horror', 'Musical', 'Sci-Fi', 'Western',\\\n",
    "       'Fantasy', 'positive_words', 'negative_words', 'verbs', 'stopwords']],\\\n",
    "                                                    imdb['IMDB_Rating'], test_size=0.3, random_state=42)\n",
    "                                                    "
   ]
  },
  {
   "cell_type": "code",
   "execution_count": 57,
   "metadata": {},
   "outputs": [
    {
     "data": {
      "text/plain": [
       "Text(0.5, 1.0, 'Correlation between features')"
      ]
     },
     "execution_count": 57,
     "metadata": {},
     "output_type": "execute_result"
    },
    {
     "data": {
      "image/png": "[encoded data removed]",
      "text/plain": [
       "<Figure size 1080x1080 with 1 Axes>"
      ]
     },
     "metadata": {
      "needs_background": "light"
     },
     "output_type": "display_data"
    }
   ],
   "source": [
    "plt.figure(figsize = (15,15))\n",
    "\n",
    "sns.heatmap(\\\n",
    "            imdb[['Released_Year', 'Certificate', 'Runtime',\\\n",
    "        'Meta_score', 'Director', 'Mystery',\\\n",
    "       'Film-Noir', 'Action', 'Family', 'Romance', 'Comedy', 'Music',\\\n",
    "       'History', 'Sport', 'Animation', 'Drama', 'Thriller', 'Biography',\\\n",
    "       'War', 'Crime', 'Adventure', 'Horror', 'Musical', 'Sci-Fi', 'Western',\\\n",
    "       'Fantasy', 'positive_words', 'negative_words', 'verbs', 'stopwords','IMDB_Rating']].corr(), cbar = False)\n",
    "plt.title(\"Correlation between features\")"
   ]
  },
  {
   "cell_type": "markdown",
   "metadata": {},
   "source": [
    "#### Linear regression"
   ]
  },
  {
   "cell_type": "code",
   "execution_count": 58,
   "metadata": {},
   "outputs": [],
   "source": [
    "from sklearn.linear_model import LinearRegression"
   ]
  },
  {
   "cell_type": "code",
   "execution_count": 59,
   "metadata": {},
   "outputs": [],
   "source": [
    "lm = LinearRegression().fit(X_train, y_train)"
   ]
  },
  {
   "cell_type": "code",
   "execution_count": 60,
   "metadata": {},
   "outputs": [],
   "source": [
    "pred = lm.predict(X_test)"
   ]
  },
  {
   "cell_type": "code",
   "execution_count": 61,
   "metadata": {},
   "outputs": [],
   "source": [
    "from sklearn.metrics import mean_squared_error"
   ]
  },
  {
   "cell_type": "code",
   "execution_count": 62,
   "metadata": {},
   "outputs": [],
   "source": [
    "rms = mean_squared_error(y_test, pred, squared=False)"
   ]
  },
  {
   "cell_type": "code",
   "execution_count": 63,
   "metadata": {},
   "outputs": [
    {
     "data": {
      "text/plain": [
       "0.2583050179022791"
      ]
     },
     "execution_count": 63,
     "metadata": {},
     "output_type": "execute_result"
    }
   ],
   "source": [
    "rms"
   ]
  },
  {
   "cell_type": "code",
   "execution_count": 64,
   "metadata": {},
   "outputs": [
    {
     "data": {
      "text/plain": [
       "0.1621120585181982"
      ]
     },
     "execution_count": 64,
     "metadata": {},
     "output_type": "execute_result"
    }
   ],
   "source": [
    "r2_score(y_test, pred)"
   ]
  },
  {
   "cell_type": "code",
   "execution_count": 65,
   "metadata": {},
   "outputs": [
    {
     "data": {
      "text/plain": [
       "array([-0.00153905, -0.00183953,  0.00224378,  0.00457431,  0.11975966,\n",
       "        0.01236284, -0.10613108, -0.01804823, -0.05776349, -0.06343195,\n",
       "        0.00059714, -0.00132595, -0.10310905,  0.00720509,  0.07942639,\n",
       "        0.02026106, -0.04758131, -0.02319097,  0.0235708 ,  0.00476588,\n",
       "       -0.04880716, -0.09516059, -0.06309021,  0.08511973,  0.01758431,\n",
       "        0.01169025, -0.00486136,  0.00554925, -0.01004713,  0.00477024])"
      ]
     },
     "execution_count": 65,
     "metadata": {},
     "output_type": "execute_result"
    }
   ],
   "source": [
    "lm.coef_"
   ]
  },
  {
   "cell_type": "code",
   "execution_count": 66,
   "metadata": {},
   "outputs": [],
   "source": [
    "import statsmodels.api as sm"
   ]
  },
  {
   "cell_type": "code",
   "execution_count": 67,
   "metadata": {},
   "outputs": [],
   "source": [
    "model0 = sm.OLS(y_train, X_train).fit()"
   ]
  },
  {
   "cell_type": "code",
   "execution_count": 68,
   "metadata": {},
   "outputs": [
    {
     "data": {
      "text/html": [
       "<table class=\"simpletable\">\n",
       "<caption>OLS Regression Results</caption>\n",
       "<tr>\n",
       "  <th>Dep. Variable:</th>       <td>IMDB_Rating</td>   <th>  R-squared (uncentered):</th>      <td>   0.999</td> \n",
       "</tr>\n",
       "<tr>\n",
       "  <th>Model:</th>                   <td>OLS</td>       <th>  Adj. R-squared (uncentered):</th> <td>   0.999</td> \n",
       "</tr>\n",
       "<tr>\n",
       "  <th>Method:</th>             <td>Least Squares</td>  <th>  F-statistic:       </th>          <td>1.957e+04</td>\n",
       "</tr>\n",
       "<tr>\n",
       "  <th>Date:</th>             <td>Thu, 09 Dec 2021</td> <th>  Prob (F-statistic):</th>           <td>  0.00</td>  \n",
       "</tr>\n",
       "<tr>\n",
       "  <th>Time:</th>                 <td>21:54:48</td>     <th>  Log-Likelihood:    </th>          <td> -72.791</td> \n",
       "</tr>\n",
       "<tr>\n",
       "  <th>No. Observations:</th>      <td>   700</td>      <th>  AIC:               </th>          <td>   205.6</td> \n",
       "</tr>\n",
       "<tr>\n",
       "  <th>Df Residuals:</th>          <td>   670</td>      <th>  BIC:               </th>          <td>   342.1</td> \n",
       "</tr>\n",
       "<tr>\n",
       "  <th>Df Model:</th>              <td>    30</td>      <th>                     </th>              <td> </td>    \n",
       "</tr>\n",
       "<tr>\n",
       "  <th>Covariance Type:</th>      <td>nonrobust</td>    <th>                     </th>              <td> </td>    \n",
       "</tr>\n",
       "</table>\n",
       "<table class=\"simpletable\">\n",
       "<tr>\n",
       "         <td></td>           <th>coef</th>     <th>std err</th>      <th>t</th>      <th>P>|t|</th>  <th>[0.025</th>    <th>0.975]</th>  \n",
       "</tr>\n",
       "<tr>\n",
       "  <th>Released_Year</th>  <td>    0.0036</td> <td> 5.64e-05</td> <td>   64.157</td> <td> 0.000</td> <td>    0.004</td> <td>    0.004</td>\n",
       "</tr>\n",
       "<tr>\n",
       "  <th>Certificate</th>    <td>   -0.0029</td> <td>    0.002</td> <td>   -1.256</td> <td> 0.209</td> <td>   -0.008</td> <td>    0.002</td>\n",
       "</tr>\n",
       "<tr>\n",
       "  <th>Runtime</th>        <td>    0.0015</td> <td>    0.000</td> <td>    3.390</td> <td> 0.001</td> <td>    0.001</td> <td>    0.002</td>\n",
       "</tr>\n",
       "<tr>\n",
       "  <th>Meta_score</th>     <td>    0.0077</td> <td>    0.001</td> <td>    8.144</td> <td> 0.000</td> <td>    0.006</td> <td>    0.010</td>\n",
       "</tr>\n",
       "<tr>\n",
       "  <th>Director</th>       <td>    0.1463</td> <td>    0.037</td> <td>    3.962</td> <td> 0.000</td> <td>    0.074</td> <td>    0.219</td>\n",
       "</tr>\n",
       "<tr>\n",
       "  <th>Mystery</th>        <td>    0.0183</td> <td>    0.039</td> <td>    0.466</td> <td> 0.642</td> <td>   -0.059</td> <td>    0.095</td>\n",
       "</tr>\n",
       "<tr>\n",
       "  <th>Film-Noir</th>      <td>    0.0418</td> <td>    0.079</td> <td>    0.528</td> <td> 0.598</td> <td>   -0.114</td> <td>    0.197</td>\n",
       "</tr>\n",
       "<tr>\n",
       "  <th>Action</th>         <td>   -0.0378</td> <td>    0.032</td> <td>   -1.179</td> <td> 0.239</td> <td>   -0.101</td> <td>    0.025</td>\n",
       "</tr>\n",
       "<tr>\n",
       "  <th>Family</th>         <td>   -0.0171</td> <td>    0.049</td> <td>   -0.348</td> <td> 0.728</td> <td>   -0.114</td> <td>    0.079</td>\n",
       "</tr>\n",
       "<tr>\n",
       "  <th>Romance</th>        <td>   -0.0438</td> <td>    0.035</td> <td>   -1.240</td> <td> 0.215</td> <td>   -0.113</td> <td>    0.026</td>\n",
       "</tr>\n",
       "<tr>\n",
       "  <th>Comedy</th>         <td>   -0.0027</td> <td>    0.031</td> <td>   -0.088</td> <td> 0.930</td> <td>   -0.063</td> <td>    0.058</td>\n",
       "</tr>\n",
       "<tr>\n",
       "  <th>Music</th>          <td>   -0.0375</td> <td>    0.064</td> <td>   -0.586</td> <td> 0.558</td> <td>   -0.163</td> <td>    0.088</td>\n",
       "</tr>\n",
       "<tr>\n",
       "  <th>History</th>        <td>   -0.0692</td> <td>    0.050</td> <td>   -1.393</td> <td> 0.164</td> <td>   -0.167</td> <td>    0.028</td>\n",
       "</tr>\n",
       "<tr>\n",
       "  <th>Sport</th>          <td>   -0.0030</td> <td>    0.073</td> <td>   -0.041</td> <td> 0.967</td> <td>   -0.146</td> <td>    0.140</td>\n",
       "</tr>\n",
       "<tr>\n",
       "  <th>Animation</th>      <td>   -0.0110</td> <td>    0.046</td> <td>   -0.242</td> <td> 0.809</td> <td>   -0.101</td> <td>    0.079</td>\n",
       "</tr>\n",
       "<tr>\n",
       "  <th>Drama</th>          <td>   -0.0031</td> <td>    0.033</td> <td>   -0.093</td> <td> 0.926</td> <td>   -0.068</td> <td>    0.062</td>\n",
       "</tr>\n",
       "<tr>\n",
       "  <th>Thriller</th>       <td>   -0.0634</td> <td>    0.037</td> <td>   -1.731</td> <td> 0.084</td> <td>   -0.135</td> <td>    0.009</td>\n",
       "</tr>\n",
       "<tr>\n",
       "  <th>Biography</th>      <td>   -0.0432</td> <td>    0.038</td> <td>   -1.122</td> <td> 0.262</td> <td>   -0.119</td> <td>    0.032</td>\n",
       "</tr>\n",
       "<tr>\n",
       "  <th>War</th>            <td>    0.0781</td> <td>    0.049</td> <td>    1.595</td> <td> 0.111</td> <td>   -0.018</td> <td>    0.174</td>\n",
       "</tr>\n",
       "<tr>\n",
       "  <th>Crime</th>          <td>    0.0292</td> <td>    0.030</td> <td>    0.963</td> <td> 0.336</td> <td>   -0.030</td> <td>    0.089</td>\n",
       "</tr>\n",
       "<tr>\n",
       "  <th>Adventure</th>      <td>   -0.0359</td> <td>    0.035</td> <td>   -1.040</td> <td> 0.299</td> <td>   -0.104</td> <td>    0.032</td>\n",
       "</tr>\n",
       "<tr>\n",
       "  <th>Horror</th>         <td>   -0.0134</td> <td>    0.065</td> <td>   -0.207</td> <td> 0.836</td> <td>   -0.141</td> <td>    0.114</td>\n",
       "</tr>\n",
       "<tr>\n",
       "  <th>Musical</th>        <td>   -0.0033</td> <td>    0.092</td> <td>   -0.035</td> <td> 0.972</td> <td>   -0.185</td> <td>    0.178</td>\n",
       "</tr>\n",
       "<tr>\n",
       "  <th>Sci-Fi</th>         <td>    0.0816</td> <td>    0.048</td> <td>    1.718</td> <td> 0.086</td> <td>   -0.012</td> <td>    0.175</td>\n",
       "</tr>\n",
       "<tr>\n",
       "  <th>Western</th>        <td>    0.1227</td> <td>    0.076</td> <td>    1.618</td> <td> 0.106</td> <td>   -0.026</td> <td>    0.272</td>\n",
       "</tr>\n",
       "<tr>\n",
       "  <th>Fantasy</th>        <td>   -0.0062</td> <td>    0.046</td> <td>   -0.136</td> <td> 0.892</td> <td>   -0.096</td> <td>    0.083</td>\n",
       "</tr>\n",
       "<tr>\n",
       "  <th>positive_words</th> <td>    0.0064</td> <td>    0.011</td> <td>    0.563</td> <td> 0.574</td> <td>   -0.016</td> <td>    0.029</td>\n",
       "</tr>\n",
       "<tr>\n",
       "  <th>negative_words</th> <td>    0.0054</td> <td>    0.009</td> <td>    0.616</td> <td> 0.538</td> <td>   -0.012</td> <td>    0.023</td>\n",
       "</tr>\n",
       "<tr>\n",
       "  <th>verbs</th>          <td>   -0.0129</td> <td>    0.006</td> <td>   -2.298</td> <td> 0.022</td> <td>   -0.024</td> <td>   -0.002</td>\n",
       "</tr>\n",
       "<tr>\n",
       "  <th>stopwords</th>      <td>    0.0038</td> <td>    0.003</td> <td>    1.247</td> <td> 0.213</td> <td>   -0.002</td> <td>    0.010</td>\n",
       "</tr>\n",
       "</table>\n",
       "<table class=\"simpletable\">\n",
       "<tr>\n",
       "  <th>Omnibus:</th>       <td>58.185</td> <th>  Durbin-Watson:     </th> <td>   1.930</td>\n",
       "</tr>\n",
       "<tr>\n",
       "  <th>Prob(Omnibus):</th> <td> 0.000</td> <th>  Jarque-Bera (JB):  </th> <td>  77.254</td>\n",
       "</tr>\n",
       "<tr>\n",
       "  <th>Skew:</th>          <td> 0.666</td> <th>  Prob(JB):          </th> <td>1.68e-17</td>\n",
       "</tr>\n",
       "<tr>\n",
       "  <th>Kurtosis:</th>      <td> 3.934</td> <th>  Cond. No.          </th> <td>1.81e+04</td>\n",
       "</tr>\n",
       "</table><br/><br/>Warnings:<br/>[1] Standard Errors assume that the covariance matrix of the errors is correctly specified.<br/>[2] The condition number is large, 1.81e+04. This might indicate that there are<br/>strong multicollinearity or other numerical problems."
      ],
      "text/plain": [
       "<class 'statsmodels.iolib.summary.Summary'>\n",
       "\"\"\"\n",
       "                                 OLS Regression Results                                \n",
       "=======================================================================================\n",
       "Dep. Variable:            IMDB_Rating   R-squared (uncentered):                   0.999\n",
       "Model:                            OLS   Adj. R-squared (uncentered):              0.999\n",
       "Method:                 Least Squares   F-statistic:                          1.957e+04\n",
       "Date:                Thu, 09 Dec 2021   Prob (F-statistic):                        0.00\n",
       "Time:                        21:54:48   Log-Likelihood:                         -72.791\n",
       "No. Observations:                 700   AIC:                                      205.6\n",
       "Df Residuals:                     670   BIC:                                      342.1\n",
       "Df Model:                          30                                                  \n",
       "Covariance Type:            nonrobust                                                  \n",
       "==================================================================================\n",
       "                     coef    std err          t      P>|t|      [0.025      0.975]\n",
       "----------------------------------------------------------------------------------\n",
       "Released_Year      0.0036   5.64e-05     64.157      0.000       0.004       0.004\n",
       "Certificate       -0.0029      0.002     -1.256      0.209      -0.008       0.002\n",
       "Runtime            0.0015      0.000      3.390      0.001       0.001       0.002\n",
       "Meta_score         0.0077      0.001      8.144      0.000       0.006       0.010\n",
       "Director           0.1463      0.037      3.962      0.000       0.074       0.219\n",
       "Mystery            0.0183      0.039      0.466      0.642      -0.059       0.095\n",
       "Film-Noir          0.0418      0.079      0.528      0.598      -0.114       0.197\n",
       "Action            -0.0378      0.032     -1.179      0.239      -0.101       0.025\n",
       "Family            -0.0171      0.049     -0.348      0.728      -0.114       0.079\n",
       "Romance           -0.0438      0.035     -1.240      0.215      -0.113       0.026\n",
       "Comedy            -0.0027      0.031     -0.088      0.930      -0.063       0.058\n",
       "Music             -0.0375      0.064     -0.586      0.558      -0.163       0.088\n",
       "History           -0.0692      0.050     -1.393      0.164      -0.167       0.028\n",
       "Sport             -0.0030      0.073     -0.041      0.967      -0.146       0.140\n",
       "Animation         -0.0110      0.046     -0.242      0.809      -0.101       0.079\n",
       "Drama             -0.0031      0.033     -0.093      0.926      -0.068       0.062\n",
       "Thriller          -0.0634      0.037     -1.731      0.084      -0.135       0.009\n",
       "Biography         -0.0432      0.038     -1.122      0.262      -0.119       0.032\n",
       "War                0.0781      0.049      1.595      0.111      -0.018       0.174\n",
       "Crime              0.0292      0.030      0.963      0.336      -0.030       0.089\n",
       "Adventure         -0.0359      0.035     -1.040      0.299      -0.104       0.032\n",
       "Horror            -0.0134      0.065     -0.207      0.836      -0.141       0.114\n",
       "Musical           -0.0033      0.092     -0.035      0.972      -0.185       0.178\n",
       "Sci-Fi             0.0816      0.048      1.718      0.086      -0.012       0.175\n",
       "Western            0.1227      0.076      1.618      0.106      -0.026       0.272\n",
       "Fantasy           -0.0062      0.046     -0.136      0.892      -0.096       0.083\n",
       "positive_words     0.0064      0.011      0.563      0.574      -0.016       0.029\n",
       "negative_words     0.0054      0.009      0.616      0.538      -0.012       0.023\n",
       "verbs             -0.0129      0.006     -2.298      0.022      -0.024      -0.002\n",
       "stopwords          0.0038      0.003      1.247      0.213      -0.002       0.010\n",
       "==============================================================================\n",
       "Omnibus:                       58.185   Durbin-Watson:                   1.930\n",
       "Prob(Omnibus):                  0.000   Jarque-Bera (JB):               77.254\n",
       "Skew:                           0.666   Prob(JB):                     1.68e-17\n",
       "Kurtosis:                       3.934   Cond. No.                     1.81e+04\n",
       "==============================================================================\n",
       "\n",
       "Warnings:\n",
       "[1] Standard Errors assume that the covariance matrix of the errors is correctly specified.\n",
       "[2] The condition number is large, 1.81e+04. This might indicate that there are\n",
       "strong multicollinearity or other numerical problems.\n",
       "\"\"\""
      ]
     },
     "execution_count": 68,
     "metadata": {},
     "output_type": "execute_result"
    }
   ],
   "source": [
    "model0.summary()"
   ]
  },
  {
   "cell_type": "markdown",
   "metadata": {},
   "source": [
    "### random forest"
   ]
  },
  {
   "cell_type": "code",
   "execution_count": 69,
   "metadata": {},
   "outputs": [],
   "source": [
    "from sklearn.ensemble import RandomForestRegressor"
   ]
  },
  {
   "cell_type": "code",
   "execution_count": 70,
   "metadata": {},
   "outputs": [],
   "source": [
    "rf = RandomForestRegressor(n_estimators=10, random_state =101)"
   ]
  },
  {
   "cell_type": "code",
   "execution_count": 71,
   "metadata": {},
   "outputs": [
    {
     "data": {
      "text/plain": [
       "RandomForestRegressor(bootstrap=True, ccp_alpha=0.0, criterion='mse',\n",
       "                      max_depth=None, max_features='auto', max_leaf_nodes=None,\n",
       "                      max_samples=None, min_impurity_decrease=0.0,\n",
       "                      min_impurity_split=None, min_samples_leaf=1,\n",
       "                      min_samples_split=2, min_weight_fraction_leaf=0.0,\n",
       "                      n_estimators=10, n_jobs=None, oob_score=False,\n",
       "                      random_state=101, verbose=0, warm_start=False)"
      ]
     },
     "execution_count": 71,
     "metadata": {},
     "output_type": "execute_result"
    }
   ],
   "source": [
    "rf.fit(X_train, y_train)"
   ]
  },
  {
   "cell_type": "code",
   "execution_count": 72,
   "metadata": {},
   "outputs": [],
   "source": [
    "pred_rf = rf.predict(X_test)"
   ]
  },
  {
   "cell_type": "code",
   "execution_count": 73,
   "metadata": {},
   "outputs": [],
   "source": [
    "rms_rf = mean_squared_error(y_test, pred_rf, squared=False)"
   ]
  },
  {
   "cell_type": "code",
   "execution_count": 74,
   "metadata": {},
   "outputs": [
    {
     "data": {
      "text/plain": [
       "0.2688803947235029"
      ]
     },
     "execution_count": 74,
     "metadata": {},
     "output_type": "execute_result"
    }
   ],
   "source": [
    "rms_rf"
   ]
  },
  {
   "cell_type": "code",
   "execution_count": 75,
   "metadata": {},
   "outputs": [
    {
     "name": "stderr",
     "output_type": "stream",
     "text": [
      "100%|██████████████████████████████████████████████████████████████████████████████████| 99/99 [00:24<00:00,  4.03it/s]\n"
     ]
    }
   ],
   "source": [
    "rms_rf_est = []\n",
    "for i in tqdm(range(1,100)):\n",
    "    rf = RandomForestRegressor(n_estimators=i, random_state = 101)\n",
    "    rf.fit(X_train, y_train)\n",
    "    pred_rf = rf.predict(X_test)\n",
    "    rms_rf_est.append(mean_squared_error(y_test, pred_rf, squared=False))"
   ]
  },
  {
   "cell_type": "code",
   "execution_count": 76,
   "metadata": {},
   "outputs": [
    {
     "data": {
      "image/png": "[encoded data removed]",
      "text/plain": [
       "<Figure size 864x504 with 1 Axes>"
      ]
     },
     "metadata": {
      "needs_background": "light"
     },
     "output_type": "display_data"
    }
   ],
   "source": [
    "plt.figure(figsize = (12,7))\n",
    "plt.plot(list(range(1,100)), rms_rf_est)\n",
    "plt.title(\"Number of trees vs RMSE\")\n",
    "plt.xlabel(\"Number of trees\")\n",
    "plt.ylabel(\"RMSE value\")\n",
    "plt.show()"
   ]
  },
  {
   "cell_type": "code",
   "execution_count": 77,
   "metadata": {},
   "outputs": [
    {
     "data": {
      "text/plain": [
       "77"
      ]
     },
     "execution_count": 77,
     "metadata": {},
     "output_type": "execute_result"
    }
   ],
   "source": [
    "rms_rf_est.index(min(rms_rf_est))"
   ]
  },
  {
   "cell_type": "code",
   "execution_count": 78,
   "metadata": {},
   "outputs": [
    {
     "data": {
      "text/plain": [
       "0.2493387924950919"
      ]
     },
     "execution_count": 78,
     "metadata": {},
     "output_type": "execute_result"
    }
   ],
   "source": [
    "min(rms_rf_est)"
   ]
  },
  {
   "cell_type": "markdown",
   "metadata": {},
   "source": [
    "##### final model - RF"
   ]
  },
  {
   "cell_type": "code",
   "execution_count": 79,
   "metadata": {},
   "outputs": [],
   "source": [
    "rf_final = RandomForestRegressor(n_estimators=rms_rf_est.index(min(rms_rf_est)), random_state=101)\n",
    "rf_final.fit(X_train, y_train)\n",
    "pred_rf_final = rf_final.predict(X_test)"
   ]
  },
  {
   "cell_type": "code",
   "execution_count": 80,
   "metadata": {},
   "outputs": [
    {
     "data": {
      "text/plain": [
       "0.21847060308180477"
      ]
     },
     "execution_count": 80,
     "metadata": {},
     "output_type": "execute_result"
    }
   ],
   "source": [
    "r2_score( y_test, pred_rf_final) #y_test, pred"
   ]
  },
  {
   "cell_type": "code",
   "execution_count": 81,
   "metadata": {},
   "outputs": [
    {
     "data": {
      "text/plain": [
       "array([0.14258547, 0.05663565, 0.1731935 , 0.17166522, 0.02998651,\n",
       "       0.01045425, 0.0017599 , 0.01029228, 0.00654451, 0.01323886,\n",
       "       0.01157941, 0.00537498, 0.00457511, 0.00498363, 0.00743343,\n",
       "       0.00995198, 0.00805902, 0.00673626, 0.01133559, 0.01733891,\n",
       "       0.00907208, 0.00349949, 0.00089708, 0.01295176, 0.00501713,\n",
       "       0.00838389, 0.04666183, 0.06209033, 0.05928025, 0.08842168])"
      ]
     },
     "execution_count": 81,
     "metadata": {},
     "output_type": "execute_result"
    }
   ],
   "source": [
    "rf_final.feature_importances_"
   ]
  },
  {
   "cell_type": "code",
   "execution_count": 82,
   "metadata": {},
   "outputs": [
    {
     "data": {
      "image/png": "[encoded data removed]",
      "text/plain": [
       "<Figure size 864x576 with 1 Axes>"
      ]
     },
     "metadata": {
      "needs_background": "light"
     },
     "output_type": "display_data"
    }
   ],
   "source": [
    "plt.figure(figsize = (12,8))\n",
    "importances = rf_final.feature_importances_\n",
    "indices = np.argsort(importances)\n",
    "features = X_train.columns\n",
    "plt.title('Feature Importances')\n",
    "plt.barh(range(len(indices)), importances[indices], color='b', align='center')\n",
    "plt.yticks(range(len(indices)), [features[i] for i in indices])\n",
    "plt.xlabel('Relative Importance')\n",
    "plt.axvline(x = 0.025,c = \"red\")\n",
    "plt.axvline(x = 0.05,c = \"green\")\n",
    "plt.show()"
   ]
  },
  {
   "cell_type": "markdown",
   "metadata": {},
   "source": [
    "### KNN regressor"
   ]
  },
  {
   "cell_type": "code",
   "execution_count": 83,
   "metadata": {},
   "outputs": [],
   "source": [
    "from sklearn.neighbors import KNeighborsRegressor"
   ]
  },
  {
   "cell_type": "code",
   "execution_count": 84,
   "metadata": {},
   "outputs": [],
   "source": [
    "knn = KNeighborsRegressor(n_neighbors=29)\n",
    "knn.fit(X_train, y_train)\n",
    "knn_pred = knn.predict(X_test)"
   ]
  },
  {
   "cell_type": "code",
   "execution_count": 85,
   "metadata": {},
   "outputs": [
    {
     "data": {
      "text/plain": [
       "0.25862168582183637"
      ]
     },
     "execution_count": 85,
     "metadata": {},
     "output_type": "execute_result"
    }
   ],
   "source": [
    "mean_squared_error(y_test, knn_pred, squared=False)"
   ]
  },
  {
   "cell_type": "code",
   "execution_count": 86,
   "metadata": {},
   "outputs": [
    {
     "data": {
      "text/plain": [
       "0.16005638902437302"
      ]
     },
     "execution_count": 86,
     "metadata": {},
     "output_type": "execute_result"
    }
   ],
   "source": [
    "r2_score(y_test, knn_pred)"
   ]
  },
  {
   "cell_type": "code",
   "execution_count": 87,
   "metadata": {},
   "outputs": [
    {
     "name": "stderr",
     "output_type": "stream",
     "text": [
      "100%|██████████████████████████████████████████████████████████████████████████████████| 74/74 [00:00<00:00, 77.42it/s]\n"
     ]
    }
   ],
   "source": [
    "knn_rms = []\n",
    "for i in tqdm(range(1, 75)):\n",
    "    knn = KNeighborsRegressor(n_neighbors=i)\n",
    "    knn.fit(X_train, y_train)\n",
    "    knn_pred = knn.predict(X_test)\n",
    "    knn_rms.append(mean_squared_error(y_test, knn_pred, squared=False))"
   ]
  },
  {
   "cell_type": "code",
   "execution_count": 88,
   "metadata": {},
   "outputs": [
    {
     "data": {
      "image/png": "[encoded data removed]",
      "text/plain": [
       "<Figure size 864x504 with 1 Axes>"
      ]
     },
     "metadata": {
      "needs_background": "light"
     },
     "output_type": "display_data"
    }
   ],
   "source": [
    "plt.figure(figsize = (12,7))\n",
    "plt.plot(list(range(1,75)), knn_rms)\n",
    "plt.title(\"K value vs RMSE\")\n",
    "plt.xlabel(\"K Nearest Neighbours\")\n",
    "plt.ylabel(\"RMSE value\")\n",
    "plt.show()"
   ]
  },
  {
   "cell_type": "code",
   "execution_count": 89,
   "metadata": {},
   "outputs": [
    {
     "data": {
      "text/plain": [
       "29"
      ]
     },
     "execution_count": 89,
     "metadata": {},
     "output_type": "execute_result"
    }
   ],
   "source": [
    "knn_rms.index(min(knn_rms))"
   ]
  },
  {
   "cell_type": "code",
   "execution_count": 90,
   "metadata": {},
   "outputs": [
    {
     "data": {
      "text/plain": [
       "0.25687495156348117"
      ]
     },
     "execution_count": 90,
     "metadata": {},
     "output_type": "execute_result"
    }
   ],
   "source": [
    "min(knn_rms)"
   ]
  },
  {
   "cell_type": "markdown",
   "metadata": {},
   "source": [
    "#### SVR"
   ]
  },
  {
   "cell_type": "code",
   "execution_count": 91,
   "metadata": {},
   "outputs": [
    {
     "data": {
      "text/plain": [
       "Pipeline(memory=None,\n",
       "         steps=[('standardscaler',\n",
       "                 StandardScaler(copy=True, with_mean=True, with_std=True)),\n",
       "                ('svr',\n",
       "                 SVR(C=0.5, cache_size=200, coef0=0.0, degree=3, epsilon=0.2,\n",
       "                     gamma='scale', kernel='rbf', max_iter=-1, shrinking=True,\n",
       "                     tol=0.001, verbose=False))],\n",
       "         verbose=False)"
      ]
     },
     "execution_count": 91,
     "metadata": {},
     "output_type": "execute_result"
    }
   ],
   "source": [
    "from sklearn.svm import SVR\n",
    "from sklearn.pipeline import make_pipeline\n",
    "from sklearn.preprocessing import StandardScaler\n",
    "svr = make_pipeline(StandardScaler(), SVR(C=0.5, epsilon=0.2))\n",
    "svr.fit(X_train, y_train)"
   ]
  },
  {
   "cell_type": "code",
   "execution_count": 92,
   "metadata": {},
   "outputs": [],
   "source": [
    "svr_pred = svr.predict(X_test)"
   ]
  },
  {
   "cell_type": "code",
   "execution_count": 93,
   "metadata": {},
   "outputs": [
    {
     "data": {
      "text/plain": [
       "0.26628922482294454"
      ]
     },
     "execution_count": 93,
     "metadata": {},
     "output_type": "execute_result"
    }
   ],
   "source": [
    "mean_squared_error(y_test, svr_pred, squared=False)"
   ]
  },
  {
   "cell_type": "code",
   "execution_count": 94,
   "metadata": {},
   "outputs": [
    {
     "data": {
      "text/plain": [
       "0.10951329220184636"
      ]
     },
     "execution_count": 94,
     "metadata": {},
     "output_type": "execute_result"
    }
   ],
   "source": [
    "r2_score(y_test, svr_pred)"
   ]
  },
  {
   "cell_type": "code",
   "execution_count": 95,
   "metadata": {
    "scrolled": true
   },
   "outputs": [
    {
     "name": "stderr",
     "output_type": "stream",
     "text": [
      "100%|████████████████████████████████████████████████████████████████████████████████████| 9/9 [00:01<00:00,  5.52it/s]\n"
     ]
    }
   ],
   "source": [
    "c = list(np.arange(0.1,1,0.1))\n",
    "ep = list(np.arange(0.1,1.0,0.1))\n",
    "vals = []\n",
    "svr_rms = []\n",
    "for i in tqdm(c):\n",
    "    for j in ep:\n",
    "        vals.append(str(round(i,1))+\",\"+str(round(j,1)))\n",
    "        svr = make_pipeline(StandardScaler(), SVR(C=i, epsilon=j))\n",
    "        svr.fit(X_train, y_train)\n",
    "        svr_pred = svr.predict(X_test)\n",
    "        svr_rms.append(mean_squared_error(y_test, svr_pred, squared=False))"
   ]
  },
  {
   "cell_type": "code",
   "execution_count": 96,
   "metadata": {},
   "outputs": [
    {
     "data": {
      "image/png": "[encoded data removed]",
      "text/plain": [
       "<Figure size 1440x720 with 1 Axes>"
      ]
     },
     "metadata": {
      "needs_background": "light"
     },
     "output_type": "display_data"
    }
   ],
   "source": [
    "plt.figure(figsize = (20,10))\n",
    "plt.plot(vals, svr_rms)\n",
    "plt.xticks(rotation = 90, ha = \"right\")\n",
    "plt.title(\"Search for best C and epsilon\")\n",
    "plt.xlabel(\"Combination of C and eps\")\n",
    "plt.ylabel(\"RMSE value\")\n",
    "plt.show()"
   ]
  },
  {
   "cell_type": "code",
   "execution_count": 97,
   "metadata": {},
   "outputs": [
    {
     "data": {
      "text/plain": [
       "37"
      ]
     },
     "execution_count": 97,
     "metadata": {},
     "output_type": "execute_result"
    }
   ],
   "source": [
    "svr_rms.index(min(svr_rms))"
   ]
  },
  {
   "cell_type": "code",
   "execution_count": 98,
   "metadata": {},
   "outputs": [
    {
     "data": {
      "text/plain": [
       "'0.5,0.2'"
      ]
     },
     "execution_count": 98,
     "metadata": {},
     "output_type": "execute_result"
    }
   ],
   "source": [
    "vals[37]"
   ]
  },
  {
   "cell_type": "code",
   "execution_count": 99,
   "metadata": {},
   "outputs": [
    {
     "data": {
      "text/plain": [
       "0.26628922482294454"
      ]
     },
     "execution_count": 99,
     "metadata": {},
     "output_type": "execute_result"
    }
   ],
   "source": [
    "min(svr_rms)"
   ]
  },
  {
   "cell_type": "markdown",
   "metadata": {},
   "source": [
    "#### K Fold CV with random forest"
   ]
  },
  {
   "cell_type": "code",
   "execution_count": 100,
   "metadata": {},
   "outputs": [],
   "source": [
    "import random\n",
    "def k_fold(all_examples, k):\n",
    "\n",
    "    kfolds = []  \n",
    "    folds = []\n",
    "\n",
    "    ind = list(range(len(all_examples)))\n",
    "    ind1 = ind\n",
    "    for i in range(k):\n",
    "        temp = random.sample(ind1, int(len(ind)/k))\n",
    "        kfolds.append(list(temp))\n",
    "        ind1=[i for i in ind1 if i not in temp]\n",
    "   \n",
    "    for i in kfolds:\n",
    "        folds.append([all_examples[j] for j in i])\n",
    "    return folds\n"
   ]
  },
  {
   "cell_type": "code",
   "execution_count": 101,
   "metadata": {},
   "outputs": [
    {
     "name": "stderr",
     "output_type": "stream",
     "text": [
      "100%|██████████████████████████████████████████████████████████████████████████████████| 10/10 [00:04<00:00,  2.00it/s]\n"
     ]
    }
   ],
   "source": [
    "folded = k_fold(text_all1, 10)\n",
    "rms_kfold = []\n",
    "for i in tqdm(range(10)):\n",
    "    test = folded[i]\n",
    "    train = []\n",
    "    for j in range(10):\n",
    "        if j!=i:\n",
    "            for k in folded[j]:               \n",
    "                train.append(k)\n",
    "    rf_final = RandomForestRegressor(n_estimators=98, random_state=101)\n",
    "    rf_final.fit(X_train, y_train)\n",
    "    pred_rf_final = rf_final.predict(X_test)\n",
    "    rms_kfold.append(mean_squared_error(y_test, pred_rf_final, squared=False))"
   ]
  },
  {
   "cell_type": "code",
   "execution_count": 102,
   "metadata": {},
   "outputs": [
    {
     "data": {
      "text/plain": [
       "[0.2498332430097854,\n",
       " 0.2498332430097854,\n",
       " 0.2498332430097854,\n",
       " 0.2498332430097854,\n",
       " 0.2498332430097854,\n",
       " 0.2498332430097854,\n",
       " 0.2498332430097854,\n",
       " 0.2498332430097854,\n",
       " 0.2498332430097854,\n",
       " 0.2498332430097854]"
      ]
     },
     "execution_count": 102,
     "metadata": {},
     "output_type": "execute_result"
    }
   ],
   "source": [
    "rms_kfold"
   ]
  },
  {
   "cell_type": "markdown",
   "metadata": {},
   "source": [
    "### fitting models after removing unwanted features:"
   ]
  },
  {
   "cell_type": "code",
   "execution_count": 103,
   "metadata": {},
   "outputs": [],
   "source": [
    "x1, x2, y1, y2 = train_test_split(imdb[\\\n",
    "    ['Released_Year', 'Certificate', 'Runtime',\\\n",
    "        'Meta_score', 'Director','positive_words', 'negative_words', 'verbs', 'stopwords']],\\\n",
    "                                                    imdb['IMDB_Rating'], test_size=0.3, random_state=42)"
   ]
  },
  {
   "cell_type": "markdown",
   "metadata": {},
   "source": [
    "Linear regression:"
   ]
  },
  {
   "cell_type": "code",
   "execution_count": 104,
   "metadata": {},
   "outputs": [
    {
     "name": "stdout",
     "output_type": "stream",
     "text": [
      "0.2524517710585225\n",
      "0.19965525461993006\n"
     ]
    }
   ],
   "source": [
    "from sklearn.linear_model import LinearRegression\n",
    "lr1 = LinearRegression().fit(X = x1, y = y1)\n",
    "predlr1 = lr1.predict(x2)\n",
    "rmselr1 = mean_squared_error(y2, predlr1, squared=False)\n",
    "r2lr1 = r2_score(y2, predlr1)\n",
    "print(rmselr1)\n",
    "print(r2lr1)"
   ]
  },
  {
   "cell_type": "markdown",
   "metadata": {},
   "source": [
    "Random forest:"
   ]
  },
  {
   "cell_type": "code",
   "execution_count": 105,
   "metadata": {},
   "outputs": [
    {
     "name": "stdout",
     "output_type": "stream",
     "text": [
      "0.2524517710585225\n",
      "0.24303564634606278\n"
     ]
    }
   ],
   "source": [
    "rf1 = RandomForestRegressor(n_estimators=98, random_state=101)\n",
    "rf1.fit(x1, y1)\n",
    "predrf1 = rf1.predict(x2)\n",
    "rmserf1 = mean_squared_error(y2, predrf1, squared=False)\n",
    "r2rf1 = r2_score(y2, predrf1)\n",
    "print(rmselr1)\n",
    "print(r2rf1)"
   ]
  },
  {
   "cell_type": "markdown",
   "metadata": {},
   "source": [
    "KNN Regressor:"
   ]
  },
  {
   "cell_type": "code",
   "execution_count": 106,
   "metadata": {},
   "outputs": [
    {
     "name": "stdout",
     "output_type": "stream",
     "text": [
      "0.2618821175827949\n",
      "0.13874463098777168\n"
     ]
    }
   ],
   "source": [
    "knn1 = KNeighborsRegressor(n_neighbors=98)\n",
    "knn1.fit(x1,y1)\n",
    "predknn1 = knn1.predict(x2)\n",
    "rmseknn1 = mean_squared_error(y2, predknn1, squared=False)\n",
    "r2knn1 = r2_score(y2, predknn1)\n",
    "print(rmseknn1)\n",
    "print(r2knn1)"
   ]
  },
  {
   "cell_type": "markdown",
   "metadata": {},
   "source": [
    "SVR:"
   ]
  },
  {
   "cell_type": "code",
   "execution_count": 107,
   "metadata": {},
   "outputs": [
    {
     "name": "stdout",
     "output_type": "stream",
     "text": [
      "0.2594825234142373\n",
      "0.15445547895938683\n"
     ]
    }
   ],
   "source": [
    "svr1 = make_pipeline(StandardScaler(), SVR(C=0.5, epsilon=0.2))\n",
    "svr1.fit(x1,y1)\n",
    "predsvr1 = svr1.predict(x2)\n",
    "rmsesvr1 = mean_squared_error(y2, predsvr1, squared=False)\n",
    "r2svr1 = r2_score(y2, predsvr1)\n",
    "print(rmsesvr1)\n",
    "print(r2svr1)"
   ]
  },
  {
   "cell_type": "markdown",
   "metadata": {},
   "source": [
    "### XGBoost"
   ]
  },
  {
   "cell_type": "code",
   "execution_count": null,
   "metadata": {},
   "outputs": [],
   "source": []
  },
  {
   "cell_type": "code",
   "execution_count": 108,
   "metadata": {},
   "outputs": [],
   "source": [
    "from xgboost import XGBRegressor"
   ]
  },
  {
   "cell_type": "code",
   "execution_count": 109,
   "metadata": {},
   "outputs": [],
   "source": [
    "xgb = XGBRegressor()"
   ]
  },
  {
   "cell_type": "code",
   "execution_count": 110,
   "metadata": {},
   "outputs": [
    {
     "data": {
      "text/plain": [
       "XGBRegressor(base_score=0.5, booster='gbtree', colsample_bylevel=1,\n",
       "             colsample_bynode=1, colsample_bytree=1, enable_categorical=False,\n",
       "             gamma=0, gpu_id=-1, importance_type=None,\n",
       "             interaction_constraints='', learning_rate=0.300000012,\n",
       "             max_delta_step=0, max_depth=6, min_child_weight=1, missing=nan,\n",
       "             monotone_constraints='()', n_estimators=100, n_jobs=4,\n",
       "             num_parallel_tree=1, objective='reg:squarederror',\n",
       "             predictor='auto', random_state=0, reg_alpha=0, reg_lambda=1,\n",
       "             scale_pos_weight=1, subsample=1, tree_method='exact',\n",
       "             validate_parameters=1, verbosity=None)"
      ]
     },
     "execution_count": 110,
     "metadata": {},
     "output_type": "execute_result"
    }
   ],
   "source": [
    "xgb.fit(X_train, y_train)"
   ]
  },
  {
   "cell_type": "code",
   "execution_count": 111,
   "metadata": {},
   "outputs": [],
   "source": [
    "pred_xgb = xgb.predict(X_test)"
   ]
  },
  {
   "cell_type": "code",
   "execution_count": 112,
   "metadata": {},
   "outputs": [
    {
     "data": {
      "text/plain": [
       "0.27309684019930436"
      ]
     },
     "execution_count": 112,
     "metadata": {},
     "output_type": "execute_result"
    }
   ],
   "source": [
    "mean_squared_error(y_test, pred_xgb, squared=False)"
   ]
  },
  {
   "cell_type": "markdown",
   "metadata": {},
   "source": [
    "### MLP - SKLearn implementation"
   ]
  },
  {
   "cell_type": "code",
   "execution_count": 113,
   "metadata": {},
   "outputs": [],
   "source": [
    "from sklearn.neural_network import MLPRegressor"
   ]
  },
  {
   "cell_type": "code",
   "execution_count": 114,
   "metadata": {},
   "outputs": [
    {
     "data": {
      "text/plain": [
       "0.2871781431474309"
      ]
     },
     "execution_count": 114,
     "metadata": {},
     "output_type": "execute_result"
    }
   ],
   "source": [
    "regr = MLPRegressor(random_state=101,hidden_layer_sizes = (100,10), max_iter=500, activation = \"relu\").fit(X_train, y_train)\n",
    "pred_mlp = regr.predict(X_test)\n",
    "mean_squared_error(y_test, pred_mlp, squared=False)"
   ]
  },
  {
   "cell_type": "code",
   "execution_count": null,
   "metadata": {},
   "outputs": [],
   "source": []
  },
  {
   "cell_type": "code",
   "execution_count": null,
   "metadata": {},
   "outputs": [],
   "source": []
  },
  {
   "cell_type": "code",
   "execution_count": null,
   "metadata": {},
   "outputs": [],
   "source": []
  },
  {
   "cell_type": "code",
   "execution_count": null,
   "metadata": {},
   "outputs": [],
   "source": []
  },
  {
   "cell_type": "code",
   "execution_count": null,
   "metadata": {},
   "outputs": [],
   "source": []
  }
 ],
 "metadata": {
  "kernelspec": {
   "display_name": "Python 3",
   "language": "python",
   "name": "python3"
  },
  "language_info": {
   "codemirror_mode": {
    "name": "ipython",
    "version": 3
   },
   "file_extension": ".py",
   "mimetype": "text/x-python",
   "name": "python",
   "nbconvert_exporter": "python",
   "pygments_lexer": "ipython3",
   "version": "3.7.6"
  }
 },
 "nbformat": 4,
 "nbformat_minor": 4
}
